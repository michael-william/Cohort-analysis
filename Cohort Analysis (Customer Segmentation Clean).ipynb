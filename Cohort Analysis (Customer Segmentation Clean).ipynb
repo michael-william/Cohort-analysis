{
 "cells": [
  {
   "cell_type": "markdown",
   "metadata": {},
   "source": [
    "# <font color ='green'> Cohort Analysis and Visualization</font>\n",
    "Grouping customers into simple behavioral segments.<br>\n",
    "This analysis can be used for two primary purposes: <br>\n",
    "1. For one-time campaign retrospection\n",
    "2. For ongoing user engagement benchmarking<br><br>\n",
    "***Medium article with more info:***\n",
    "https://medium.com/analytics-for-humans/what-is-cohort-analysis-and-how-should-i-use-it-3ac7c39c50dd"
   ]
  },
  {
   "cell_type": "markdown",
   "metadata": {},
   "source": [
    "# <font color = 'teal'> Import Libraries </font>"
   ]
  },
  {
   "cell_type": "code",
   "execution_count": 2,
   "metadata": {},
   "outputs": [],
   "source": [
    "# Basic data manipulation\n",
    "import numpy as np\n",
    "import math\n",
    "import pandas as pd\n",
    "pd.set_option('display.max_columns', 20)\n",
    "import datetime as dt\n",
    "import qgrid\n",
    "import requests\n",
    "\n",
    "# Data visualization\n",
    "import seaborn as sns\n",
    "import matplotlib.pyplot as plt\n",
    "\n",
    "# Machine learning\n",
    "from sklearn.preprocessing import StandardScaler\n",
    "from sklearn.cluster import KMeans"
   ]
  },
  {
   "cell_type": "markdown",
   "metadata": {},
   "source": [
    "# <font color = 'teal'> Read and Inspect Data </font>"
   ]
  },
  {
   "cell_type": "code",
   "execution_count": 6,
   "metadata": {},
   "outputs": [],
   "source": [
    "#GitHub data location\n",
    "data = 'https://github.com/michael-william/Cohort-analysis/raw/master/Online%20Retail.xlsx'\n",
    "source = pd.ExcelFile(data)"
   ]
  },
  {
   "cell_type": "code",
   "execution_count": 7,
   "metadata": {},
   "outputs": [],
   "source": [
    "online = pd.read_excel(source, 'Online Retail')"
   ]
  },
  {
   "cell_type": "code",
   "execution_count": 8,
   "metadata": {},
   "outputs": [
    {
     "data": {
      "application/vnd.jupyter.widget-view+json": {
       "model_id": "c3043baa4ba44928a868307347fdd744",
       "version_major": 2,
       "version_minor": 0
      },
      "text/plain": [
       "QgridWidget(grid_options={'fullWidthRows': True, 'syncColumnCellResize': True, 'forceFitColumns': True, 'defau…"
      ]
     },
     "metadata": {},
     "output_type": "display_data"
    }
   ],
   "source": [
    "qgrid.show_grid(online, show_toolbar=True)\n",
    "\n",
    "# or\n",
    "#online.head()"
   ]
  },
  {
   "cell_type": "code",
   "execution_count": 6,
   "metadata": {
    "scrolled": true
   },
   "outputs": [
    {
     "name": "stdout",
     "output_type": "stream",
     "text": [
      "<class 'pandas.core.frame.DataFrame'>\n",
      "RangeIndex: 541909 entries, 0 to 541908\n",
      "Data columns (total 8 columns):\n",
      " #   Column       Non-Null Count   Dtype         \n",
      "---  ------       --------------   -----         \n",
      " 0   InvoiceNo    541909 non-null  object        \n",
      " 1   StockCode    541909 non-null  object        \n",
      " 2   Description  540455 non-null  object        \n",
      " 3   Quantity     541909 non-null  int64         \n",
      " 4   InvoiceDate  541909 non-null  datetime64[ns]\n",
      " 5   UnitPrice    541909 non-null  float64       \n",
      " 6   CustomerID   406829 non-null  float64       \n",
      " 7   Country      541909 non-null  object        \n",
      "dtypes: datetime64[ns](1), float64(2), int64(1), object(4)\n",
      "memory usage: 33.1+ MB\n"
     ]
    }
   ],
   "source": [
    "online.info()"
   ]
  },
  {
   "cell_type": "code",
   "execution_count": 7,
   "metadata": {},
   "outputs": [],
   "source": [
    "#Dropping nulls\n",
    "online = online.dropna().reset_index(drop=True)"
   ]
  },
  {
   "cell_type": "code",
   "execution_count": 8,
   "metadata": {},
   "outputs": [],
   "source": [
    "#Sorting to make it easier to spot check\n",
    "online = online.sort_values('CustomerID').reset_index(drop=True)"
   ]
  },
  {
   "cell_type": "markdown",
   "metadata": {},
   "source": [
    "### Assign daily acquisition cohort (CohortDay)##"
   ]
  },
  {
   "cell_type": "code",
   "execution_count": 9,
   "metadata": {
    "scrolled": true
   },
   "outputs": [
    {
     "data": {
      "text/html": [
       "<div>\n",
       "<style scoped>\n",
       "    .dataframe tbody tr th:only-of-type {\n",
       "        vertical-align: middle;\n",
       "    }\n",
       "\n",
       "    .dataframe tbody tr th {\n",
       "        vertical-align: top;\n",
       "    }\n",
       "\n",
       "    .dataframe thead th {\n",
       "        text-align: right;\n",
       "    }\n",
       "</style>\n",
       "<table border=\"1\" class=\"dataframe\">\n",
       "  <thead>\n",
       "    <tr style=\"text-align: right;\">\n",
       "      <th></th>\n",
       "      <th>InvoiceNo</th>\n",
       "      <th>StockCode</th>\n",
       "      <th>Description</th>\n",
       "      <th>Quantity</th>\n",
       "      <th>InvoiceDate</th>\n",
       "      <th>UnitPrice</th>\n",
       "      <th>CustomerID</th>\n",
       "      <th>Country</th>\n",
       "      <th>InvoiceDay</th>\n",
       "      <th>CohortDay</th>\n",
       "    </tr>\n",
       "  </thead>\n",
       "  <tbody>\n",
       "    <tr>\n",
       "      <th>0</th>\n",
       "      <td>541431</td>\n",
       "      <td>23166</td>\n",
       "      <td>MEDIUM CERAMIC TOP STORAGE JAR</td>\n",
       "      <td>74215</td>\n",
       "      <td>2011-01-18 10:01:00</td>\n",
       "      <td>1.04</td>\n",
       "      <td>12346.0</td>\n",
       "      <td>United Kingdom</td>\n",
       "      <td>2011-01-18</td>\n",
       "      <td>2011-01-18</td>\n",
       "    </tr>\n",
       "    <tr>\n",
       "      <th>1</th>\n",
       "      <td>C541433</td>\n",
       "      <td>23166</td>\n",
       "      <td>MEDIUM CERAMIC TOP STORAGE JAR</td>\n",
       "      <td>-74215</td>\n",
       "      <td>2011-01-18 10:17:00</td>\n",
       "      <td>1.04</td>\n",
       "      <td>12346.0</td>\n",
       "      <td>United Kingdom</td>\n",
       "      <td>2011-01-18</td>\n",
       "      <td>2011-01-18</td>\n",
       "    </tr>\n",
       "    <tr>\n",
       "      <th>2</th>\n",
       "      <td>562032</td>\n",
       "      <td>21578</td>\n",
       "      <td>WOODLAND DESIGN  COTTON TOTE BAG</td>\n",
       "      <td>6</td>\n",
       "      <td>2011-08-02 08:48:00</td>\n",
       "      <td>2.25</td>\n",
       "      <td>12347.0</td>\n",
       "      <td>Iceland</td>\n",
       "      <td>2011-08-02</td>\n",
       "      <td>2010-12-07</td>\n",
       "    </tr>\n",
       "    <tr>\n",
       "      <th>3</th>\n",
       "      <td>542237</td>\n",
       "      <td>47559B</td>\n",
       "      <td>TEA TIME OVEN GLOVE</td>\n",
       "      <td>10</td>\n",
       "      <td>2011-01-26 14:30:00</td>\n",
       "      <td>1.25</td>\n",
       "      <td>12347.0</td>\n",
       "      <td>Iceland</td>\n",
       "      <td>2011-01-26</td>\n",
       "      <td>2010-12-07</td>\n",
       "    </tr>\n",
       "    <tr>\n",
       "      <th>4</th>\n",
       "      <td>542237</td>\n",
       "      <td>21154</td>\n",
       "      <td>RED RETROSPOT OVEN GLOVE</td>\n",
       "      <td>10</td>\n",
       "      <td>2011-01-26 14:30:00</td>\n",
       "      <td>1.25</td>\n",
       "      <td>12347.0</td>\n",
       "      <td>Iceland</td>\n",
       "      <td>2011-01-26</td>\n",
       "      <td>2010-12-07</td>\n",
       "    </tr>\n",
       "  </tbody>\n",
       "</table>\n",
       "</div>"
      ],
      "text/plain": [
       "  InvoiceNo StockCode                       Description  Quantity  \\\n",
       "0    541431     23166    MEDIUM CERAMIC TOP STORAGE JAR     74215   \n",
       "1   C541433     23166    MEDIUM CERAMIC TOP STORAGE JAR    -74215   \n",
       "2    562032     21578  WOODLAND DESIGN  COTTON TOTE BAG         6   \n",
       "3    542237    47559B               TEA TIME OVEN GLOVE        10   \n",
       "4    542237     21154         RED RETROSPOT OVEN GLOVE         10   \n",
       "\n",
       "          InvoiceDate  UnitPrice  CustomerID         Country InvoiceDay  \\\n",
       "0 2011-01-18 10:01:00       1.04     12346.0  United Kingdom 2011-01-18   \n",
       "1 2011-01-18 10:17:00       1.04     12346.0  United Kingdom 2011-01-18   \n",
       "2 2011-08-02 08:48:00       2.25     12347.0         Iceland 2011-08-02   \n",
       "3 2011-01-26 14:30:00       1.25     12347.0         Iceland 2011-01-26   \n",
       "4 2011-01-26 14:30:00       1.25     12347.0         Iceland 2011-01-26   \n",
       "\n",
       "   CohortDay  \n",
       "0 2011-01-18  \n",
       "1 2011-01-18  \n",
       "2 2010-12-07  \n",
       "3 2010-12-07  \n",
       "4 2010-12-07  "
      ]
     },
     "execution_count": 9,
     "metadata": {},
     "output_type": "execute_result"
    }
   ],
   "source": [
    "# Define a function that will parse the date\n",
    "def get_day(x): \n",
    "    return dt.datetime(x.year, x.month, x.day) \n",
    "\n",
    "# Create InvoiceDay column\n",
    "online['InvoiceDay'] = online['InvoiceDate'].apply(get_day) \n",
    "\n",
    "# Group by CustomerID and select the InvoiceDay value\n",
    "grouping = online.groupby('CustomerID')['InvoiceDay'] \n",
    "\n",
    "# Assign a minimum InvoiceDay value to the dataset\n",
    "online['CohortDay'] = grouping.transform('min').astype('datetime64[ns]')\n",
    "\n",
    "# View the top 5 rows\n",
    "online.head(5)"
   ]
  },
  {
   "cell_type": "markdown",
   "metadata": {},
   "source": [
    "### Calculate time offset in days - part 1##"
   ]
  },
  {
   "cell_type": "code",
   "execution_count": 10,
   "metadata": {},
   "outputs": [],
   "source": [
    "def get_date_int(df, column):\n",
    "    year = df[column].dt.year\n",
    "    month = df[column].dt.month\n",
    "    day = df[column].dt.day\n",
    "    return year, month, day"
   ]
  },
  {
   "cell_type": "code",
   "execution_count": 11,
   "metadata": {},
   "outputs": [],
   "source": [
    "# Get the integers for date parts from the `InvoiceDay` column\n",
    "invoice_year, invoice_month, invoice_day = get_date_int(online, 'InvoiceDay')\n",
    "\n",
    "# Get the integers for date parts from the `CohortDay` column\n",
    "cohort_year, cohort_month, cohort_day = get_date_int(online, 'CohortDay')"
   ]
  },
  {
   "cell_type": "markdown",
   "metadata": {},
   "source": [
    "### Calculate time offset in days - part 2 (ChortIndex)"
   ]
  },
  {
   "cell_type": "code",
   "execution_count": 12,
   "metadata": {
    "scrolled": true
   },
   "outputs": [
    {
     "data": {
      "text/html": [
       "<div>\n",
       "<style scoped>\n",
       "    .dataframe tbody tr th:only-of-type {\n",
       "        vertical-align: middle;\n",
       "    }\n",
       "\n",
       "    .dataframe tbody tr th {\n",
       "        vertical-align: top;\n",
       "    }\n",
       "\n",
       "    .dataframe thead th {\n",
       "        text-align: right;\n",
       "    }\n",
       "</style>\n",
       "<table border=\"1\" class=\"dataframe\">\n",
       "  <thead>\n",
       "    <tr style=\"text-align: right;\">\n",
       "      <th></th>\n",
       "      <th>InvoiceNo</th>\n",
       "      <th>StockCode</th>\n",
       "      <th>Description</th>\n",
       "      <th>Quantity</th>\n",
       "      <th>InvoiceDate</th>\n",
       "      <th>UnitPrice</th>\n",
       "      <th>CustomerID</th>\n",
       "      <th>Country</th>\n",
       "      <th>InvoiceDay</th>\n",
       "      <th>CohortDay</th>\n",
       "      <th>CohortIndex</th>\n",
       "    </tr>\n",
       "  </thead>\n",
       "  <tbody>\n",
       "    <tr>\n",
       "      <th>0</th>\n",
       "      <td>541431</td>\n",
       "      <td>23166</td>\n",
       "      <td>MEDIUM CERAMIC TOP STORAGE JAR</td>\n",
       "      <td>74215</td>\n",
       "      <td>2011-01-18 10:01:00</td>\n",
       "      <td>1.04</td>\n",
       "      <td>12346.0</td>\n",
       "      <td>United Kingdom</td>\n",
       "      <td>2011-01-18</td>\n",
       "      <td>2011-01-18</td>\n",
       "      <td>1</td>\n",
       "    </tr>\n",
       "    <tr>\n",
       "      <th>1</th>\n",
       "      <td>C541433</td>\n",
       "      <td>23166</td>\n",
       "      <td>MEDIUM CERAMIC TOP STORAGE JAR</td>\n",
       "      <td>-74215</td>\n",
       "      <td>2011-01-18 10:17:00</td>\n",
       "      <td>1.04</td>\n",
       "      <td>12346.0</td>\n",
       "      <td>United Kingdom</td>\n",
       "      <td>2011-01-18</td>\n",
       "      <td>2011-01-18</td>\n",
       "      <td>1</td>\n",
       "    </tr>\n",
       "    <tr>\n",
       "      <th>2</th>\n",
       "      <td>562032</td>\n",
       "      <td>21578</td>\n",
       "      <td>WOODLAND DESIGN  COTTON TOTE BAG</td>\n",
       "      <td>6</td>\n",
       "      <td>2011-08-02 08:48:00</td>\n",
       "      <td>2.25</td>\n",
       "      <td>12347.0</td>\n",
       "      <td>Iceland</td>\n",
       "      <td>2011-08-02</td>\n",
       "      <td>2010-12-07</td>\n",
       "      <td>241</td>\n",
       "    </tr>\n",
       "    <tr>\n",
       "      <th>3</th>\n",
       "      <td>542237</td>\n",
       "      <td>47559B</td>\n",
       "      <td>TEA TIME OVEN GLOVE</td>\n",
       "      <td>10</td>\n",
       "      <td>2011-01-26 14:30:00</td>\n",
       "      <td>1.25</td>\n",
       "      <td>12347.0</td>\n",
       "      <td>Iceland</td>\n",
       "      <td>2011-01-26</td>\n",
       "      <td>2010-12-07</td>\n",
       "      <td>55</td>\n",
       "    </tr>\n",
       "    <tr>\n",
       "      <th>4</th>\n",
       "      <td>542237</td>\n",
       "      <td>21154</td>\n",
       "      <td>RED RETROSPOT OVEN GLOVE</td>\n",
       "      <td>10</td>\n",
       "      <td>2011-01-26 14:30:00</td>\n",
       "      <td>1.25</td>\n",
       "      <td>12347.0</td>\n",
       "      <td>Iceland</td>\n",
       "      <td>2011-01-26</td>\n",
       "      <td>2010-12-07</td>\n",
       "      <td>55</td>\n",
       "    </tr>\n",
       "  </tbody>\n",
       "</table>\n",
       "</div>"
      ],
      "text/plain": [
       "  InvoiceNo StockCode                       Description  Quantity  \\\n",
       "0    541431     23166    MEDIUM CERAMIC TOP STORAGE JAR     74215   \n",
       "1   C541433     23166    MEDIUM CERAMIC TOP STORAGE JAR    -74215   \n",
       "2    562032     21578  WOODLAND DESIGN  COTTON TOTE BAG         6   \n",
       "3    542237    47559B               TEA TIME OVEN GLOVE        10   \n",
       "4    542237     21154         RED RETROSPOT OVEN GLOVE         10   \n",
       "\n",
       "          InvoiceDate  UnitPrice  CustomerID         Country InvoiceDay  \\\n",
       "0 2011-01-18 10:01:00       1.04     12346.0  United Kingdom 2011-01-18   \n",
       "1 2011-01-18 10:17:00       1.04     12346.0  United Kingdom 2011-01-18   \n",
       "2 2011-08-02 08:48:00       2.25     12347.0         Iceland 2011-08-02   \n",
       "3 2011-01-26 14:30:00       1.25     12347.0         Iceland 2011-01-26   \n",
       "4 2011-01-26 14:30:00       1.25     12347.0         Iceland 2011-01-26   \n",
       "\n",
       "   CohortDay  CohortIndex  \n",
       "0 2011-01-18            1  \n",
       "1 2011-01-18            1  \n",
       "2 2010-12-07          241  \n",
       "3 2010-12-07           55  \n",
       "4 2010-12-07           55  "
      ]
     },
     "execution_count": 12,
     "metadata": {},
     "output_type": "execute_result"
    }
   ],
   "source": [
    "# Calculate difference in years\n",
    "years_diff = invoice_year - cohort_year\n",
    "\n",
    "# Calculate difference in months\n",
    "months_diff = invoice_month - cohort_month\n",
    "\n",
    "# Calculate difference in days\n",
    "days_diff = invoice_day - cohort_day\n",
    "\n",
    "# Extract the difference in days from all previous values\n",
    "online['CohortIndex'] = years_diff * 365 + months_diff * 30 + days_diff + 1\n",
    "online.head()"
   ]
  },
  {
   "cell_type": "code",
   "execution_count": 13,
   "metadata": {},
   "outputs": [],
   "source": [
    "# Converting CohortIndex to months from days\n",
    "online['CohortIndex'] = np.ceil(np.divide(online.CohortIndex,30)).astype('int')"
   ]
  },
  {
   "cell_type": "markdown",
   "metadata": {},
   "source": [
    "# <font color = 'teal'> Cohort Metrics </font>"
   ]
  },
  {
   "cell_type": "markdown",
   "metadata": {},
   "source": [
    "### Calculate retention from scratch"
   ]
  },
  {
   "cell_type": "code",
   "execution_count": 14,
   "metadata": {},
   "outputs": [],
   "source": [
    "#Adding CohortMonth from CohortDay in dt format\n",
    "online['CohortMonth'] =  online.CohortDay + pd.offsets.MonthBegin(1)"
   ]
  },
  {
   "cell_type": "code",
   "execution_count": 15,
   "metadata": {},
   "outputs": [],
   "source": [
    "grouping = online.groupby(['CohortMonth', 'CohortIndex'])"
   ]
  },
  {
   "cell_type": "code",
   "execution_count": 16,
   "metadata": {},
   "outputs": [],
   "source": [
    "cohort_data = grouping['CustomerID'].apply(pd.Series.nunique).reset_index()"
   ]
  },
  {
   "cell_type": "code",
   "execution_count": 17,
   "metadata": {},
   "outputs": [
    {
     "data": {
      "text/html": [
       "<div>\n",
       "<style scoped>\n",
       "    .dataframe tbody tr th:only-of-type {\n",
       "        vertical-align: middle;\n",
       "    }\n",
       "\n",
       "    .dataframe tbody tr th {\n",
       "        vertical-align: top;\n",
       "    }\n",
       "\n",
       "    .dataframe thead th {\n",
       "        text-align: right;\n",
       "    }\n",
       "</style>\n",
       "<table border=\"1\" class=\"dataframe\">\n",
       "  <thead>\n",
       "    <tr style=\"text-align: right;\">\n",
       "      <th>CohortIndex</th>\n",
       "      <th>1</th>\n",
       "      <th>2</th>\n",
       "      <th>3</th>\n",
       "      <th>4</th>\n",
       "      <th>5</th>\n",
       "      <th>6</th>\n",
       "      <th>7</th>\n",
       "      <th>8</th>\n",
       "      <th>9</th>\n",
       "      <th>10</th>\n",
       "      <th>11</th>\n",
       "      <th>12</th>\n",
       "      <th>13</th>\n",
       "    </tr>\n",
       "    <tr>\n",
       "      <th>CohortMonth</th>\n",
       "      <th></th>\n",
       "      <th></th>\n",
       "      <th></th>\n",
       "      <th></th>\n",
       "      <th></th>\n",
       "      <th></th>\n",
       "      <th></th>\n",
       "      <th></th>\n",
       "      <th></th>\n",
       "      <th></th>\n",
       "      <th></th>\n",
       "      <th></th>\n",
       "      <th></th>\n",
       "    </tr>\n",
       "  </thead>\n",
       "  <tbody>\n",
       "    <tr>\n",
       "      <th>2011-01-01</th>\n",
       "      <td>100.0</td>\n",
       "      <td>38.29</td>\n",
       "      <td>34.49</td>\n",
       "      <td>38.50</td>\n",
       "      <td>36.29</td>\n",
       "      <td>39.03</td>\n",
       "      <td>37.03</td>\n",
       "      <td>35.44</td>\n",
       "      <td>34.92</td>\n",
       "      <td>38.29</td>\n",
       "      <td>40.61</td>\n",
       "      <td>50.74</td>\n",
       "      <td>19.73</td>\n",
       "    </tr>\n",
       "    <tr>\n",
       "      <th>2011-02-01</th>\n",
       "      <td>100.0</td>\n",
       "      <td>24.70</td>\n",
       "      <td>28.98</td>\n",
       "      <td>30.40</td>\n",
       "      <td>30.17</td>\n",
       "      <td>28.98</td>\n",
       "      <td>25.65</td>\n",
       "      <td>27.55</td>\n",
       "      <td>33.73</td>\n",
       "      <td>35.15</td>\n",
       "      <td>28.50</td>\n",
       "      <td>1.43</td>\n",
       "      <td>NaN</td>\n",
       "    </tr>\n",
       "    <tr>\n",
       "      <th>2011-03-01</th>\n",
       "      <td>100.0</td>\n",
       "      <td>23.42</td>\n",
       "      <td>23.95</td>\n",
       "      <td>29.47</td>\n",
       "      <td>20.79</td>\n",
       "      <td>26.84</td>\n",
       "      <td>25.53</td>\n",
       "      <td>27.89</td>\n",
       "      <td>28.95</td>\n",
       "      <td>25.00</td>\n",
       "      <td>0.79</td>\n",
       "      <td>NaN</td>\n",
       "      <td>NaN</td>\n",
       "    </tr>\n",
       "    <tr>\n",
       "      <th>2011-04-01</th>\n",
       "      <td>100.0</td>\n",
       "      <td>18.64</td>\n",
       "      <td>25.00</td>\n",
       "      <td>23.18</td>\n",
       "      <td>19.55</td>\n",
       "      <td>22.05</td>\n",
       "      <td>24.32</td>\n",
       "      <td>27.05</td>\n",
       "      <td>21.82</td>\n",
       "      <td>2.50</td>\n",
       "      <td>NaN</td>\n",
       "      <td>NaN</td>\n",
       "      <td>NaN</td>\n",
       "    </tr>\n",
       "    <tr>\n",
       "      <th>2011-05-01</th>\n",
       "      <td>100.0</td>\n",
       "      <td>27.42</td>\n",
       "      <td>17.73</td>\n",
       "      <td>22.41</td>\n",
       "      <td>18.39</td>\n",
       "      <td>23.75</td>\n",
       "      <td>24.75</td>\n",
       "      <td>22.74</td>\n",
       "      <td>2.34</td>\n",
       "      <td>NaN</td>\n",
       "      <td>NaN</td>\n",
       "      <td>NaN</td>\n",
       "      <td>NaN</td>\n",
       "    </tr>\n",
       "  </tbody>\n",
       "</table>\n",
       "</div>"
      ],
      "text/plain": [
       "CohortIndex     1      2      3      4      5      6      7      8      9   \\\n",
       "CohortMonth                                                                  \n",
       "2011-01-01   100.0  38.29  34.49  38.50  36.29  39.03  37.03  35.44  34.92   \n",
       "2011-02-01   100.0  24.70  28.98  30.40  30.17  28.98  25.65  27.55  33.73   \n",
       "2011-03-01   100.0  23.42  23.95  29.47  20.79  26.84  25.53  27.89  28.95   \n",
       "2011-04-01   100.0  18.64  25.00  23.18  19.55  22.05  24.32  27.05  21.82   \n",
       "2011-05-01   100.0  27.42  17.73  22.41  18.39  23.75  24.75  22.74   2.34   \n",
       "\n",
       "CohortIndex     10     11     12     13  \n",
       "CohortMonth                              \n",
       "2011-01-01   38.29  40.61  50.74  19.73  \n",
       "2011-02-01   35.15  28.50   1.43    NaN  \n",
       "2011-03-01   25.00   0.79    NaN    NaN  \n",
       "2011-04-01    2.50    NaN    NaN    NaN  \n",
       "2011-05-01     NaN    NaN    NaN    NaN  "
      ]
     },
     "execution_count": 17,
     "metadata": {},
     "output_type": "execute_result"
    }
   ],
   "source": [
    "# Count the number of unique values per customer ID\n",
    "cohort_data = grouping['CustomerID'].apply(pd.Series.nunique).reset_index()\n",
    "\n",
    "# Create a pivot \n",
    "cohort_counts = cohort_data.pivot(index='CohortMonth', columns='CohortIndex', values='CustomerID')\n",
    "\n",
    "# Select the first column and store it to cohort_sizes\n",
    "cohort_sizes = cohort_counts.iloc[:,0]\n",
    "\n",
    "# Divide the cohort count by cohort sizes along the rows\n",
    "retention = (cohort_counts.divide(cohort_sizes, axis=0) * 100).round(2)\n",
    "retention.head()"
   ]
  },
  {
   "cell_type": "markdown",
   "metadata": {},
   "source": [
    "### Calculate average price"
   ]
  },
  {
   "cell_type": "code",
   "execution_count": 18,
   "metadata": {
    "scrolled": true
   },
   "outputs": [
    {
     "data": {
      "text/html": [
       "<div>\n",
       "<style scoped>\n",
       "    .dataframe tbody tr th:only-of-type {\n",
       "        vertical-align: middle;\n",
       "    }\n",
       "\n",
       "    .dataframe tbody tr th {\n",
       "        vertical-align: top;\n",
       "    }\n",
       "\n",
       "    .dataframe thead th {\n",
       "        text-align: right;\n",
       "    }\n",
       "</style>\n",
       "<table border=\"1\" class=\"dataframe\">\n",
       "  <thead>\n",
       "    <tr style=\"text-align: right;\">\n",
       "      <th>CohortIndex</th>\n",
       "      <th>1</th>\n",
       "      <th>2</th>\n",
       "      <th>3</th>\n",
       "      <th>4</th>\n",
       "      <th>5</th>\n",
       "      <th>6</th>\n",
       "      <th>7</th>\n",
       "      <th>8</th>\n",
       "      <th>9</th>\n",
       "      <th>10</th>\n",
       "      <th>11</th>\n",
       "      <th>12</th>\n",
       "      <th>13</th>\n",
       "    </tr>\n",
       "    <tr>\n",
       "      <th>CohortMonth</th>\n",
       "      <th></th>\n",
       "      <th></th>\n",
       "      <th></th>\n",
       "      <th></th>\n",
       "      <th></th>\n",
       "      <th></th>\n",
       "      <th></th>\n",
       "      <th></th>\n",
       "      <th></th>\n",
       "      <th></th>\n",
       "      <th></th>\n",
       "      <th></th>\n",
       "      <th></th>\n",
       "    </tr>\n",
       "  </thead>\n",
       "  <tbody>\n",
       "    <tr>\n",
       "      <th>2011-01-01</th>\n",
       "      <td>3.20</td>\n",
       "      <td>3.19</td>\n",
       "      <td>3.23</td>\n",
       "      <td>3.57</td>\n",
       "      <td>2.90</td>\n",
       "      <td>4.99</td>\n",
       "      <td>3.15</td>\n",
       "      <td>3.25</td>\n",
       "      <td>3.45</td>\n",
       "      <td>3.08</td>\n",
       "      <td>3.21</td>\n",
       "      <td>2.85</td>\n",
       "      <td>2.81</td>\n",
       "    </tr>\n",
       "    <tr>\n",
       "      <th>2011-02-01</th>\n",
       "      <td>3.50</td>\n",
       "      <td>3.38</td>\n",
       "      <td>7.34</td>\n",
       "      <td>3.12</td>\n",
       "      <td>3.33</td>\n",
       "      <td>2.88</td>\n",
       "      <td>2.77</td>\n",
       "      <td>2.72</td>\n",
       "      <td>5.63</td>\n",
       "      <td>3.00</td>\n",
       "      <td>2.77</td>\n",
       "      <td>2.36</td>\n",
       "      <td>NaN</td>\n",
       "    </tr>\n",
       "    <tr>\n",
       "      <th>2011-03-01</th>\n",
       "      <td>3.52</td>\n",
       "      <td>4.78</td>\n",
       "      <td>2.94</td>\n",
       "      <td>3.14</td>\n",
       "      <td>2.97</td>\n",
       "      <td>2.72</td>\n",
       "      <td>3.19</td>\n",
       "      <td>3.00</td>\n",
       "      <td>2.89</td>\n",
       "      <td>3.06</td>\n",
       "      <td>2.54</td>\n",
       "      <td>NaN</td>\n",
       "      <td>NaN</td>\n",
       "    </tr>\n",
       "    <tr>\n",
       "      <th>2011-04-01</th>\n",
       "      <td>3.49</td>\n",
       "      <td>3.86</td>\n",
       "      <td>3.32</td>\n",
       "      <td>3.53</td>\n",
       "      <td>3.08</td>\n",
       "      <td>2.79</td>\n",
       "      <td>2.77</td>\n",
       "      <td>2.79</td>\n",
       "      <td>2.66</td>\n",
       "      <td>3.15</td>\n",
       "      <td>NaN</td>\n",
       "      <td>NaN</td>\n",
       "      <td>NaN</td>\n",
       "    </tr>\n",
       "    <tr>\n",
       "      <th>2011-05-01</th>\n",
       "      <td>3.42</td>\n",
       "      <td>3.82</td>\n",
       "      <td>3.16</td>\n",
       "      <td>2.86</td>\n",
       "      <td>2.88</td>\n",
       "      <td>2.88</td>\n",
       "      <td>2.72</td>\n",
       "      <td>2.91</td>\n",
       "      <td>2.54</td>\n",
       "      <td>NaN</td>\n",
       "      <td>NaN</td>\n",
       "      <td>NaN</td>\n",
       "      <td>NaN</td>\n",
       "    </tr>\n",
       "  </tbody>\n",
       "</table>\n",
       "</div>"
      ],
      "text/plain": [
       "CohortIndex    1     2     3     4     5     6     7     8     9     10    11  \\\n",
       "CohortMonth                                                                     \n",
       "2011-01-01   3.20  3.19  3.23  3.57  2.90  4.99  3.15  3.25  3.45  3.08  3.21   \n",
       "2011-02-01   3.50  3.38  7.34  3.12  3.33  2.88  2.77  2.72  5.63  3.00  2.77   \n",
       "2011-03-01   3.52  4.78  2.94  3.14  2.97  2.72  3.19  3.00  2.89  3.06  2.54   \n",
       "2011-04-01   3.49  3.86  3.32  3.53  3.08  2.79  2.77  2.79  2.66  3.15   NaN   \n",
       "2011-05-01   3.42  3.82  3.16  2.86  2.88  2.88  2.72  2.91  2.54   NaN   NaN   \n",
       "\n",
       "CohortIndex    12    13  \n",
       "CohortMonth              \n",
       "2011-01-01   2.85  2.81  \n",
       "2011-02-01   2.36   NaN  \n",
       "2011-03-01    NaN   NaN  \n",
       "2011-04-01    NaN   NaN  \n",
       "2011-05-01    NaN   NaN  "
      ]
     },
     "execution_count": 18,
     "metadata": {},
     "output_type": "execute_result"
    }
   ],
   "source": [
    "# Create a groupby object and pass the monthly cohort and cohort index as a list\n",
    "grouping = online.groupby(['CohortMonth', 'CohortIndex']) \n",
    "\n",
    "# Calculate the average of the unit price column\n",
    "cohort_data = grouping['UnitPrice'].mean()\n",
    "\n",
    "# Reset the index of cohort_data\n",
    "cohort_data = cohort_data.reset_index()\n",
    "\n",
    "# Create a pivot \n",
    "average_price = cohort_data.pivot(index='CohortMonth', columns='CohortIndex', values='UnitPrice')\n",
    "average_price = average_price.round(2)\n",
    "average_price.head()"
   ]
  },
  {
   "cell_type": "markdown",
   "metadata": {},
   "source": [
    "### Calculate average quantity"
   ]
  },
  {
   "cell_type": "code",
   "execution_count": 19,
   "metadata": {
    "scrolled": true
   },
   "outputs": [
    {
     "data": {
      "text/html": [
       "<div>\n",
       "<style scoped>\n",
       "    .dataframe tbody tr th:only-of-type {\n",
       "        vertical-align: middle;\n",
       "    }\n",
       "\n",
       "    .dataframe tbody tr th {\n",
       "        vertical-align: top;\n",
       "    }\n",
       "\n",
       "    .dataframe thead th {\n",
       "        text-align: right;\n",
       "    }\n",
       "</style>\n",
       "<table border=\"1\" class=\"dataframe\">\n",
       "  <thead>\n",
       "    <tr style=\"text-align: right;\">\n",
       "      <th>CohortIndex</th>\n",
       "      <th>1</th>\n",
       "      <th>2</th>\n",
       "      <th>3</th>\n",
       "      <th>4</th>\n",
       "      <th>5</th>\n",
       "      <th>6</th>\n",
       "      <th>7</th>\n",
       "      <th>8</th>\n",
       "      <th>9</th>\n",
       "      <th>10</th>\n",
       "      <th>11</th>\n",
       "      <th>12</th>\n",
       "      <th>13</th>\n",
       "    </tr>\n",
       "    <tr>\n",
       "      <th>CohortMonth</th>\n",
       "      <th></th>\n",
       "      <th></th>\n",
       "      <th></th>\n",
       "      <th></th>\n",
       "      <th></th>\n",
       "      <th></th>\n",
       "      <th></th>\n",
       "      <th></th>\n",
       "      <th></th>\n",
       "      <th></th>\n",
       "      <th></th>\n",
       "      <th></th>\n",
       "      <th></th>\n",
       "    </tr>\n",
       "  </thead>\n",
       "  <tbody>\n",
       "    <tr>\n",
       "      <th>2011-01-01</th>\n",
       "      <td>11.3</td>\n",
       "      <td>14.5</td>\n",
       "      <td>14.1</td>\n",
       "      <td>15.0</td>\n",
       "      <td>14.6</td>\n",
       "      <td>13.3</td>\n",
       "      <td>14.4</td>\n",
       "      <td>17.5</td>\n",
       "      <td>14.8</td>\n",
       "      <td>17.2</td>\n",
       "      <td>16.9</td>\n",
       "      <td>13.0</td>\n",
       "      <td>13.1</td>\n",
       "    </tr>\n",
       "    <tr>\n",
       "      <th>2011-02-01</th>\n",
       "      <td>9.8</td>\n",
       "      <td>15.2</td>\n",
       "      <td>11.3</td>\n",
       "      <td>10.7</td>\n",
       "      <td>12.7</td>\n",
       "      <td>15.4</td>\n",
       "      <td>14.2</td>\n",
       "      <td>14.0</td>\n",
       "      <td>11.4</td>\n",
       "      <td>8.5</td>\n",
       "      <td>9.2</td>\n",
       "      <td>12.2</td>\n",
       "      <td>NaN</td>\n",
       "    </tr>\n",
       "    <tr>\n",
       "      <th>2011-03-01</th>\n",
       "      <td>10.8</td>\n",
       "      <td>13.9</td>\n",
       "      <td>16.1</td>\n",
       "      <td>11.8</td>\n",
       "      <td>10.4</td>\n",
       "      <td>13.2</td>\n",
       "      <td>13.0</td>\n",
       "      <td>11.2</td>\n",
       "      <td>10.0</td>\n",
       "      <td>13.8</td>\n",
       "      <td>18.8</td>\n",
       "      <td>NaN</td>\n",
       "      <td>NaN</td>\n",
       "    </tr>\n",
       "    <tr>\n",
       "      <th>2011-04-01</th>\n",
       "      <td>9.7</td>\n",
       "      <td>11.0</td>\n",
       "      <td>11.8</td>\n",
       "      <td>9.9</td>\n",
       "      <td>13.8</td>\n",
       "      <td>13.9</td>\n",
       "      <td>10.8</td>\n",
       "      <td>13.7</td>\n",
       "      <td>9.3</td>\n",
       "      <td>5.7</td>\n",
       "      <td>NaN</td>\n",
       "      <td>NaN</td>\n",
       "      <td>NaN</td>\n",
       "    </tr>\n",
       "    <tr>\n",
       "      <th>2011-05-01</th>\n",
       "      <td>9.8</td>\n",
       "      <td>8.7</td>\n",
       "      <td>11.8</td>\n",
       "      <td>11.3</td>\n",
       "      <td>11.1</td>\n",
       "      <td>8.6</td>\n",
       "      <td>9.3</td>\n",
       "      <td>9.5</td>\n",
       "      <td>5.6</td>\n",
       "      <td>NaN</td>\n",
       "      <td>NaN</td>\n",
       "      <td>NaN</td>\n",
       "      <td>NaN</td>\n",
       "    </tr>\n",
       "  </tbody>\n",
       "</table>\n",
       "</div>"
      ],
      "text/plain": [
       "CohortIndex    1     2     3     4     5     6     7     8     9     10    11  \\\n",
       "CohortMonth                                                                     \n",
       "2011-01-01   11.3  14.5  14.1  15.0  14.6  13.3  14.4  17.5  14.8  17.2  16.9   \n",
       "2011-02-01    9.8  15.2  11.3  10.7  12.7  15.4  14.2  14.0  11.4   8.5   9.2   \n",
       "2011-03-01   10.8  13.9  16.1  11.8  10.4  13.2  13.0  11.2  10.0  13.8  18.8   \n",
       "2011-04-01    9.7  11.0  11.8   9.9  13.8  13.9  10.8  13.7   9.3   5.7   NaN   \n",
       "2011-05-01    9.8   8.7  11.8  11.3  11.1   8.6   9.3   9.5   5.6   NaN   NaN   \n",
       "\n",
       "CohortIndex    12    13  \n",
       "CohortMonth              \n",
       "2011-01-01   13.0  13.1  \n",
       "2011-02-01   12.2   NaN  \n",
       "2011-03-01    NaN   NaN  \n",
       "2011-04-01    NaN   NaN  \n",
       "2011-05-01    NaN   NaN  "
      ]
     },
     "execution_count": 19,
     "metadata": {},
     "output_type": "execute_result"
    }
   ],
   "source": [
    "# Create a groupby object and pass the monthly cohort and cohort index as a list\n",
    "grouping = online.groupby(['CohortMonth', 'CohortIndex']) \n",
    "\n",
    "# Calculate the average of the unit price column\n",
    "cohort_data = grouping['Quantity'].mean()\n",
    "\n",
    "# Reset the index of cohort_data\n",
    "cohort_data = cohort_data.reset_index()\n",
    "\n",
    "# Create a pivot \n",
    "average_quantity = cohort_data.pivot(index='CohortMonth', columns='CohortIndex', values='Quantity')\n",
    "average_quantity = average_quantity.round(1)\n",
    "average_quantity.head()"
   ]
  },
  {
   "cell_type": "markdown",
   "metadata": {},
   "source": [
    "# <font color = 'teal'>Cohot Analysis Visualization</font>"
   ]
  },
  {
   "cell_type": "code",
   "execution_count": 20,
   "metadata": {},
   "outputs": [
    {
     "name": "stderr",
     "output_type": "stream",
     "text": [
      "No handles with labels found to put in legend.\n"
     ]
    },
    {
     "data": {
      "image/png": "[encoded data removed]",
      "text/plain": [
       "<Figure size 576x432 with 2 Axes>"
      ]
     },
     "metadata": {
      "needs_background": "light"
     },
     "output_type": "display_data"
    }
   ],
   "source": [
    "# Initialize an 8 by 6 inches plot figure\n",
    "plt.figure(figsize=(8, 6))\n",
    "\n",
    "# Add a title\n",
    "plt.title('Retention Percentage by Monthly Cohorts')\n",
    "\n",
    "# Create the heatmap\n",
    "ax = sns.heatmap(data = retention, annot=True, cmap='Reds')\n",
    "plt.yticks(rotation = 0)\n",
    "ax.legend(loc = 'right' , title = \"Rentention%\")\n",
    "plt.show()"
   ]
  },
  {
   "cell_type": "code",
   "execution_count": 21,
   "metadata": {},
   "outputs": [
    {
     "data": {
      "image/png": "[encoded data removed]",
      "text/plain": [
       "<Figure size 576x432 with 2 Axes>"
      ]
     },
     "metadata": {
      "needs_background": "light"
     },
     "output_type": "display_data"
    }
   ],
   "source": [
    "# Initialize an 8 by 6 inches plot figure\n",
    "plt.figure(figsize=(8, 6))\n",
    "\n",
    "# Add a title\n",
    "plt.title('Average Spent per Order by Monthly Cohorts')\n",
    "\n",
    "# Create the heatmap\n",
    "ax = sns.heatmap(data = average_price, annot=True, cmap='Greens')\n",
    "plt.yticks(rotation = 0)\n",
    "plt.show()"
   ]
  },
  {
   "cell_type": "code",
   "execution_count": 22,
   "metadata": {},
   "outputs": [
    {
     "data": {
      "image/png": "[encoded data removed]",
      "text/plain": [
       "<Figure size 576x432 with 2 Axes>"
      ]
     },
     "metadata": {
      "needs_background": "light"
     },
     "output_type": "display_data"
    }
   ],
   "source": [
    "# Initialize an 8 by 6 inches plot figure\n",
    "plt.figure(figsize=(8, 6))\n",
    "\n",
    "# Add a title\n",
    "plt.title('Average Quantity of Products Ordered by Monthly Cohorts')\n",
    "\n",
    "# Create the heatmap\n",
    "ax = sns.heatmap(data = average_quantity, annot=True, cmap='Blues')\n",
    "plt.yticks(rotation = 0)\n",
    "plt.show()"
   ]
  },
  {
   "cell_type": "markdown",
   "metadata": {},
   "source": [
    "# <font color = 'teal'>RFMT Sementation Recency Frequency Monetary</font>\n",
    "https://en.wikipedia.org/wiki/RFM_(market_research)\n",
    "- Recency - days since last customer transaction\n",
    "- Frequecy - number of transaction in the last 12 months\n",
    "- Monetary Value - total spend in last 12 months\n",
    "- Tenure - days since first transaction"
   ]
  },
  {
   "cell_type": "markdown",
   "metadata": {},
   "source": [
    "**Can group by:**\n",
    "  - Percentiles (chosen for this project)\n",
    "  > 1. Sort customers based on percentile\n",
    "  > 2. Break customers into a pre-defined number of groups of equal size\n",
    "  > 3. Assign a label to each group\n",
    "  - Pareto 80/20 cut\n",
    "  - Custom, based on business knowledge\n"
   ]
  },
  {
   "cell_type": "markdown",
   "metadata": {},
   "source": [
    "### Adjusting data to only last 12 months of invoices"
   ]
  },
  {
   "cell_type": "code",
   "execution_count": 23,
   "metadata": {},
   "outputs": [
    {
     "name": "stdout",
     "output_type": "stream",
     "text": [
      "Min invoice date:2010-12-01 08:26:00; Max invoice data:2011-12-09 12:50:00\n"
     ]
    }
   ],
   "source": [
    "print('Min invoice date:{}; Max invoice data:{}'.format(min(online.InvoiceDate), max(online.InvoiceDate)))"
   ]
  },
  {
   "cell_type": "code",
   "execution_count": 24,
   "metadata": {},
   "outputs": [],
   "source": [
    "#Data is already adjusted to last 12 months \n",
    "#Data is old, so creating hypothetical snap_shot data as if we're doing analysis recently\n",
    "snapshot_date = max(online.InvoiceDate) + dt.timedelta(days=1)"
   ]
  },
  {
   "cell_type": "markdown",
   "metadata": {},
   "source": [
    "### Calculate RFMT Metrics"
   ]
  },
  {
   "cell_type": "code",
   "execution_count": 25,
   "metadata": {
    "scrolled": true
   },
   "outputs": [],
   "source": [
    "# Aggregate data on a customer level"
   ]
  },
  {
   "cell_type": "code",
   "execution_count": 26,
   "metadata": {},
   "outputs": [],
   "source": [
    "rfmt = online.groupby('CustomerID')\n",
    "rfmt = rfmt.agg(Recency = ('InvoiceDate','max'),\n",
    "            Frequency = ('InvoiceNo','size'),\n",
    "           Monetary_Value = ('UnitPrice', 'sum'),\n",
    "             Tenure = ('InvoiceDate','min'))"
   ]
  },
  {
   "cell_type": "code",
   "execution_count": 27,
   "metadata": {},
   "outputs": [],
   "source": [
    "recency_days = []\n",
    "for x in rfmt.Recency:\n",
    "    diff = snapshot_date-x\n",
    "    diff = diff/np.timedelta64(1,\"D\")\n",
    "    diff = np.ceil(diff).astype('int')\n",
    "    recency_days.append(diff)"
   ]
  },
  {
   "cell_type": "code",
   "execution_count": 28,
   "metadata": {},
   "outputs": [],
   "source": [
    "rfmt['Recency'] = recency_days"
   ]
  },
  {
   "cell_type": "code",
   "execution_count": 29,
   "metadata": {},
   "outputs": [],
   "source": [
    "tenure_days = []\n",
    "for x in rfmt.Tenure:\n",
    "    diff = snapshot_date-x\n",
    "    diff = diff/np.timedelta64(1,\"D\")\n",
    "    diff = np.ceil(diff).astype('int')\n",
    "    tenure_days.append(diff)"
   ]
  },
  {
   "cell_type": "code",
   "execution_count": 30,
   "metadata": {},
   "outputs": [],
   "source": [
    "rfmt['Tenure'] = tenure_days"
   ]
  },
  {
   "cell_type": "code",
   "execution_count": 31,
   "metadata": {
    "scrolled": true
   },
   "outputs": [
    {
     "data": {
      "text/html": [
       "<div>\n",
       "<style scoped>\n",
       "    .dataframe tbody tr th:only-of-type {\n",
       "        vertical-align: middle;\n",
       "    }\n",
       "\n",
       "    .dataframe tbody tr th {\n",
       "        vertical-align: top;\n",
       "    }\n",
       "\n",
       "    .dataframe thead th {\n",
       "        text-align: right;\n",
       "    }\n",
       "</style>\n",
       "<table border=\"1\" class=\"dataframe\">\n",
       "  <thead>\n",
       "    <tr style=\"text-align: right;\">\n",
       "      <th></th>\n",
       "      <th>Recency</th>\n",
       "      <th>Frequency</th>\n",
       "      <th>Monetary_Value</th>\n",
       "      <th>Tenure</th>\n",
       "    </tr>\n",
       "    <tr>\n",
       "      <th>CustomerID</th>\n",
       "      <th></th>\n",
       "      <th></th>\n",
       "      <th></th>\n",
       "      <th></th>\n",
       "    </tr>\n",
       "  </thead>\n",
       "  <tbody>\n",
       "    <tr>\n",
       "      <th>12346</th>\n",
       "      <td>327</td>\n",
       "      <td>2</td>\n",
       "      <td>2.08</td>\n",
       "      <td>327</td>\n",
       "    </tr>\n",
       "    <tr>\n",
       "      <th>12347</th>\n",
       "      <td>3</td>\n",
       "      <td>182</td>\n",
       "      <td>481.21</td>\n",
       "      <td>368</td>\n",
       "    </tr>\n",
       "    <tr>\n",
       "      <th>12348</th>\n",
       "      <td>76</td>\n",
       "      <td>31</td>\n",
       "      <td>178.71</td>\n",
       "      <td>359</td>\n",
       "    </tr>\n",
       "    <tr>\n",
       "      <th>12349</th>\n",
       "      <td>20</td>\n",
       "      <td>73</td>\n",
       "      <td>605.10</td>\n",
       "      <td>20</td>\n",
       "    </tr>\n",
       "    <tr>\n",
       "      <th>12350</th>\n",
       "      <td>311</td>\n",
       "      <td>17</td>\n",
       "      <td>65.30</td>\n",
       "      <td>311</td>\n",
       "    </tr>\n",
       "    <tr>\n",
       "      <th>...</th>\n",
       "      <td>...</td>\n",
       "      <td>...</td>\n",
       "      <td>...</td>\n",
       "      <td>...</td>\n",
       "    </tr>\n",
       "    <tr>\n",
       "      <th>18280</th>\n",
       "      <td>279</td>\n",
       "      <td>10</td>\n",
       "      <td>47.65</td>\n",
       "      <td>279</td>\n",
       "    </tr>\n",
       "    <tr>\n",
       "      <th>18281</th>\n",
       "      <td>182</td>\n",
       "      <td>7</td>\n",
       "      <td>39.36</td>\n",
       "      <td>182</td>\n",
       "    </tr>\n",
       "    <tr>\n",
       "      <th>18282</th>\n",
       "      <td>9</td>\n",
       "      <td>13</td>\n",
       "      <td>62.68</td>\n",
       "      <td>127</td>\n",
       "    </tr>\n",
       "    <tr>\n",
       "      <th>18283</th>\n",
       "      <td>5</td>\n",
       "      <td>756</td>\n",
       "      <td>1220.93</td>\n",
       "      <td>338</td>\n",
       "    </tr>\n",
       "    <tr>\n",
       "      <th>18287</th>\n",
       "      <td>44</td>\n",
       "      <td>70</td>\n",
       "      <td>104.55</td>\n",
       "      <td>203</td>\n",
       "    </tr>\n",
       "  </tbody>\n",
       "</table>\n",
       "<p>4372 rows × 4 columns</p>\n",
       "</div>"
      ],
      "text/plain": [
       "            Recency  Frequency  Monetary_Value  Tenure\n",
       "CustomerID                                            \n",
       "12346           327          2            2.08     327\n",
       "12347             3        182          481.21     368\n",
       "12348            76         31          178.71     359\n",
       "12349            20         73          605.10      20\n",
       "12350           311         17           65.30     311\n",
       "...             ...        ...             ...     ...\n",
       "18280           279         10           47.65     279\n",
       "18281           182          7           39.36     182\n",
       "18282             9         13           62.68     127\n",
       "18283             5        756         1220.93     338\n",
       "18287            44         70          104.55     203\n",
       "\n",
       "[4372 rows x 4 columns]"
      ]
     },
     "execution_count": 31,
     "metadata": {},
     "output_type": "execute_result"
    }
   ],
   "source": [
    "rfmt.index = rfmt.index.astype('int')\n",
    "rfmt.index.name='CustomerID'\n",
    "rfmt"
   ]
  },
  {
   "cell_type": "code",
   "execution_count": 32,
   "metadata": {},
   "outputs": [],
   "source": [
    "# Dropping rows where monetary value = 0 for later pre-processing steps\n",
    "rfmt = rfmt[rfmt.Monetary_Value != 0]"
   ]
  },
  {
   "cell_type": "markdown",
   "metadata": {},
   "source": [
    "### Building RFMT segments"
   ]
  },
  {
   "cell_type": "code",
   "execution_count": 33,
   "metadata": {},
   "outputs": [],
   "source": [
    "import warnings\n",
    "warnings.filterwarnings('ignore')\n",
    "\n",
    "# Generator of labels for recency where 4 is best and 1 is worst\n",
    "r_labels = range(4,0,-1)\n",
    "\n",
    "# Recency quartiles\n",
    "r_quartiles = pd.qcut(rfmt.Recency,4,labels=r_labels)\n",
    "\n",
    "# Append recency quartiles to dataframe\n",
    "rfmt['R'] = r_quartiles"
   ]
  },
  {
   "cell_type": "code",
   "execution_count": 34,
   "metadata": {
    "scrolled": true
   },
   "outputs": [
    {
     "data": {
      "text/html": [
       "<div>\n",
       "<style scoped>\n",
       "    .dataframe tbody tr th:only-of-type {\n",
       "        vertical-align: middle;\n",
       "    }\n",
       "\n",
       "    .dataframe tbody tr th {\n",
       "        vertical-align: top;\n",
       "    }\n",
       "\n",
       "    .dataframe thead th {\n",
       "        text-align: right;\n",
       "    }\n",
       "</style>\n",
       "<table border=\"1\" class=\"dataframe\">\n",
       "  <thead>\n",
       "    <tr style=\"text-align: right;\">\n",
       "      <th></th>\n",
       "      <th>Recency</th>\n",
       "      <th>Frequency</th>\n",
       "      <th>Monetary_Value</th>\n",
       "      <th>Tenure</th>\n",
       "      <th>R</th>\n",
       "      <th>F</th>\n",
       "      <th>M</th>\n",
       "      <th>T</th>\n",
       "    </tr>\n",
       "    <tr>\n",
       "      <th>CustomerID</th>\n",
       "      <th></th>\n",
       "      <th></th>\n",
       "      <th></th>\n",
       "      <th></th>\n",
       "      <th></th>\n",
       "      <th></th>\n",
       "      <th></th>\n",
       "      <th></th>\n",
       "    </tr>\n",
       "  </thead>\n",
       "  <tbody>\n",
       "    <tr>\n",
       "      <th>12346</th>\n",
       "      <td>327</td>\n",
       "      <td>2</td>\n",
       "      <td>2.08</td>\n",
       "      <td>327</td>\n",
       "      <td>1</td>\n",
       "      <td>1</td>\n",
       "      <td>1</td>\n",
       "      <td>3</td>\n",
       "    </tr>\n",
       "    <tr>\n",
       "      <th>12347</th>\n",
       "      <td>3</td>\n",
       "      <td>182</td>\n",
       "      <td>481.21</td>\n",
       "      <td>368</td>\n",
       "      <td>4</td>\n",
       "      <td>4</td>\n",
       "      <td>4</td>\n",
       "      <td>4</td>\n",
       "    </tr>\n",
       "    <tr>\n",
       "      <th>12348</th>\n",
       "      <td>76</td>\n",
       "      <td>31</td>\n",
       "      <td>178.71</td>\n",
       "      <td>359</td>\n",
       "      <td>2</td>\n",
       "      <td>2</td>\n",
       "      <td>3</td>\n",
       "      <td>4</td>\n",
       "    </tr>\n",
       "    <tr>\n",
       "      <th>12349</th>\n",
       "      <td>20</td>\n",
       "      <td>73</td>\n",
       "      <td>605.10</td>\n",
       "      <td>20</td>\n",
       "      <td>3</td>\n",
       "      <td>3</td>\n",
       "      <td>4</td>\n",
       "      <td>1</td>\n",
       "    </tr>\n",
       "    <tr>\n",
       "      <th>12350</th>\n",
       "      <td>311</td>\n",
       "      <td>17</td>\n",
       "      <td>65.30</td>\n",
       "      <td>311</td>\n",
       "      <td>1</td>\n",
       "      <td>1</td>\n",
       "      <td>2</td>\n",
       "      <td>3</td>\n",
       "    </tr>\n",
       "  </tbody>\n",
       "</table>\n",
       "</div>"
      ],
      "text/plain": [
       "            Recency  Frequency  Monetary_Value  Tenure  R  F  M  T\n",
       "CustomerID                                                        \n",
       "12346           327          2            2.08     327  1  1  1  3\n",
       "12347             3        182          481.21     368  4  4  4  4\n",
       "12348            76         31          178.71     359  2  2  3  4\n",
       "12349            20         73          605.10      20  3  3  4  1\n",
       "12350           311         17           65.30     311  1  1  2  3"
      ]
     },
     "execution_count": 34,
     "metadata": {},
     "output_type": "execute_result"
    }
   ],
   "source": [
    "# Generator of labels for frequency and monetary where 1 is best and 4 is worst\n",
    "f_labels = range(1,5)\n",
    "m_labels = range(1,5)\n",
    "t_labels = range(1,5)\n",
    "\n",
    "# frequency and monetary quartiles\n",
    "f_quartiles = pd.qcut(rfmt.Frequency,4,labels=f_labels)\n",
    "m_quartiles = pd.qcut(rfmt.Monetary_Value,4,labels=m_labels)\n",
    "t_quartiles = pd.qcut(rfmt.Tenure,4,labels=t_labels)\n",
    "\n",
    "# Append recency quartiles to dataframe\n",
    "rfmt['F'] = f_quartiles\n",
    "rfmt['M'] = m_quartiles\n",
    "rfmt['T'] = t_quartiles\n",
    "rfmt.head()"
   ]
  },
  {
   "cell_type": "code",
   "execution_count": 35,
   "metadata": {},
   "outputs": [
    {
     "data": {
      "text/html": [
       "<div>\n",
       "<style scoped>\n",
       "    .dataframe tbody tr th:only-of-type {\n",
       "        vertical-align: middle;\n",
       "    }\n",
       "\n",
       "    .dataframe tbody tr th {\n",
       "        vertical-align: top;\n",
       "    }\n",
       "\n",
       "    .dataframe thead th {\n",
       "        text-align: right;\n",
       "    }\n",
       "</style>\n",
       "<table border=\"1\" class=\"dataframe\">\n",
       "  <thead>\n",
       "    <tr style=\"text-align: right;\">\n",
       "      <th></th>\n",
       "      <th>Recency</th>\n",
       "      <th>Frequency</th>\n",
       "      <th>Monetary_Value</th>\n",
       "      <th>Tenure</th>\n",
       "      <th>R</th>\n",
       "      <th>F</th>\n",
       "      <th>M</th>\n",
       "      <th>T</th>\n",
       "      <th>Segment</th>\n",
       "    </tr>\n",
       "    <tr>\n",
       "      <th>CustomerID</th>\n",
       "      <th></th>\n",
       "      <th></th>\n",
       "      <th></th>\n",
       "      <th></th>\n",
       "      <th></th>\n",
       "      <th></th>\n",
       "      <th></th>\n",
       "      <th></th>\n",
       "      <th></th>\n",
       "    </tr>\n",
       "  </thead>\n",
       "  <tbody>\n",
       "    <tr>\n",
       "      <th>12346</th>\n",
       "      <td>327</td>\n",
       "      <td>2</td>\n",
       "      <td>2.08</td>\n",
       "      <td>327</td>\n",
       "      <td>1</td>\n",
       "      <td>1</td>\n",
       "      <td>1</td>\n",
       "      <td>3</td>\n",
       "      <td>1113</td>\n",
       "    </tr>\n",
       "    <tr>\n",
       "      <th>12347</th>\n",
       "      <td>3</td>\n",
       "      <td>182</td>\n",
       "      <td>481.21</td>\n",
       "      <td>368</td>\n",
       "      <td>4</td>\n",
       "      <td>4</td>\n",
       "      <td>4</td>\n",
       "      <td>4</td>\n",
       "      <td>4444</td>\n",
       "    </tr>\n",
       "    <tr>\n",
       "      <th>12348</th>\n",
       "      <td>76</td>\n",
       "      <td>31</td>\n",
       "      <td>178.71</td>\n",
       "      <td>359</td>\n",
       "      <td>2</td>\n",
       "      <td>2</td>\n",
       "      <td>3</td>\n",
       "      <td>4</td>\n",
       "      <td>2234</td>\n",
       "    </tr>\n",
       "    <tr>\n",
       "      <th>12349</th>\n",
       "      <td>20</td>\n",
       "      <td>73</td>\n",
       "      <td>605.10</td>\n",
       "      <td>20</td>\n",
       "      <td>3</td>\n",
       "      <td>3</td>\n",
       "      <td>4</td>\n",
       "      <td>1</td>\n",
       "      <td>3341</td>\n",
       "    </tr>\n",
       "    <tr>\n",
       "      <th>12350</th>\n",
       "      <td>311</td>\n",
       "      <td>17</td>\n",
       "      <td>65.30</td>\n",
       "      <td>311</td>\n",
       "      <td>1</td>\n",
       "      <td>1</td>\n",
       "      <td>2</td>\n",
       "      <td>3</td>\n",
       "      <td>1123</td>\n",
       "    </tr>\n",
       "    <tr>\n",
       "      <th>...</th>\n",
       "      <td>...</td>\n",
       "      <td>...</td>\n",
       "      <td>...</td>\n",
       "      <td>...</td>\n",
       "      <td>...</td>\n",
       "      <td>...</td>\n",
       "      <td>...</td>\n",
       "      <td>...</td>\n",
       "      <td>...</td>\n",
       "    </tr>\n",
       "    <tr>\n",
       "      <th>18280</th>\n",
       "      <td>279</td>\n",
       "      <td>10</td>\n",
       "      <td>47.65</td>\n",
       "      <td>279</td>\n",
       "      <td>1</td>\n",
       "      <td>1</td>\n",
       "      <td>1</td>\n",
       "      <td>3</td>\n",
       "      <td>1113</td>\n",
       "    </tr>\n",
       "    <tr>\n",
       "      <th>18281</th>\n",
       "      <td>182</td>\n",
       "      <td>7</td>\n",
       "      <td>39.36</td>\n",
       "      <td>182</td>\n",
       "      <td>1</td>\n",
       "      <td>1</td>\n",
       "      <td>1</td>\n",
       "      <td>2</td>\n",
       "      <td>1112</td>\n",
       "    </tr>\n",
       "    <tr>\n",
       "      <th>18282</th>\n",
       "      <td>9</td>\n",
       "      <td>13</td>\n",
       "      <td>62.68</td>\n",
       "      <td>127</td>\n",
       "      <td>4</td>\n",
       "      <td>1</td>\n",
       "      <td>2</td>\n",
       "      <td>2</td>\n",
       "      <td>4122</td>\n",
       "    </tr>\n",
       "    <tr>\n",
       "      <th>18283</th>\n",
       "      <td>5</td>\n",
       "      <td>756</td>\n",
       "      <td>1220.93</td>\n",
       "      <td>338</td>\n",
       "      <td>4</td>\n",
       "      <td>4</td>\n",
       "      <td>4</td>\n",
       "      <td>4</td>\n",
       "      <td>4444</td>\n",
       "    </tr>\n",
       "    <tr>\n",
       "      <th>18287</th>\n",
       "      <td>44</td>\n",
       "      <td>70</td>\n",
       "      <td>104.55</td>\n",
       "      <td>203</td>\n",
       "      <td>3</td>\n",
       "      <td>3</td>\n",
       "      <td>2</td>\n",
       "      <td>2</td>\n",
       "      <td>3322</td>\n",
       "    </tr>\n",
       "  </tbody>\n",
       "</table>\n",
       "<p>4371 rows × 9 columns</p>\n",
       "</div>"
      ],
      "text/plain": [
       "            Recency  Frequency  Monetary_Value  Tenure  R  F  M  T Segment\n",
       "CustomerID                                                                \n",
       "12346           327          2            2.08     327  1  1  1  3    1113\n",
       "12347             3        182          481.21     368  4  4  4  4    4444\n",
       "12348            76         31          178.71     359  2  2  3  4    2234\n",
       "12349            20         73          605.10      20  3  3  4  1    3341\n",
       "12350           311         17           65.30     311  1  1  2  3    1123\n",
       "...             ...        ...             ...     ... .. .. .. ..     ...\n",
       "18280           279         10           47.65     279  1  1  1  3    1113\n",
       "18281           182          7           39.36     182  1  1  1  2    1112\n",
       "18282             9         13           62.68     127  4  1  2  2    4122\n",
       "18283             5        756         1220.93     338  4  4  4  4    4444\n",
       "18287            44         70          104.55     203  3  3  2  2    3322\n",
       "\n",
       "[4371 rows x 9 columns]"
      ]
     },
     "execution_count": 35,
     "metadata": {},
     "output_type": "execute_result"
    }
   ],
   "source": [
    "# Creating RFMT segement\n",
    "def join_rfmt(x):\n",
    "    return str(x.R) + str(x.F) + str(x.M) + str(x['T'])\n",
    "\n",
    "rfmt['Segment'] = rfmt.apply(join_rfmt,axis=1)\n",
    "rfmt\n"
   ]
  },
  {
   "cell_type": "code",
   "execution_count": 36,
   "metadata": {},
   "outputs": [
    {
     "data": {
      "text/html": [
       "<div>\n",
       "<style scoped>\n",
       "    .dataframe tbody tr th:only-of-type {\n",
       "        vertical-align: middle;\n",
       "    }\n",
       "\n",
       "    .dataframe tbody tr th {\n",
       "        vertical-align: top;\n",
       "    }\n",
       "\n",
       "    .dataframe thead th {\n",
       "        text-align: right;\n",
       "    }\n",
       "</style>\n",
       "<table border=\"1\" class=\"dataframe\">\n",
       "  <thead>\n",
       "    <tr style=\"text-align: right;\">\n",
       "      <th></th>\n",
       "      <th>Recency</th>\n",
       "      <th>Frequency</th>\n",
       "      <th>Monetary_Value</th>\n",
       "      <th>Tenure</th>\n",
       "      <th>R</th>\n",
       "      <th>F</th>\n",
       "      <th>M</th>\n",
       "      <th>T</th>\n",
       "      <th>Segment</th>\n",
       "      <th>Score</th>\n",
       "    </tr>\n",
       "    <tr>\n",
       "      <th>CustomerID</th>\n",
       "      <th></th>\n",
       "      <th></th>\n",
       "      <th></th>\n",
       "      <th></th>\n",
       "      <th></th>\n",
       "      <th></th>\n",
       "      <th></th>\n",
       "      <th></th>\n",
       "      <th></th>\n",
       "      <th></th>\n",
       "    </tr>\n",
       "  </thead>\n",
       "  <tbody>\n",
       "    <tr>\n",
       "      <th>12346</th>\n",
       "      <td>327</td>\n",
       "      <td>2</td>\n",
       "      <td>2.08</td>\n",
       "      <td>327</td>\n",
       "      <td>1</td>\n",
       "      <td>1</td>\n",
       "      <td>1</td>\n",
       "      <td>3</td>\n",
       "      <td>1113</td>\n",
       "      <td>6</td>\n",
       "    </tr>\n",
       "    <tr>\n",
       "      <th>12347</th>\n",
       "      <td>3</td>\n",
       "      <td>182</td>\n",
       "      <td>481.21</td>\n",
       "      <td>368</td>\n",
       "      <td>4</td>\n",
       "      <td>4</td>\n",
       "      <td>4</td>\n",
       "      <td>4</td>\n",
       "      <td>4444</td>\n",
       "      <td>16</td>\n",
       "    </tr>\n",
       "    <tr>\n",
       "      <th>12348</th>\n",
       "      <td>76</td>\n",
       "      <td>31</td>\n",
       "      <td>178.71</td>\n",
       "      <td>359</td>\n",
       "      <td>2</td>\n",
       "      <td>2</td>\n",
       "      <td>3</td>\n",
       "      <td>4</td>\n",
       "      <td>2234</td>\n",
       "      <td>11</td>\n",
       "    </tr>\n",
       "    <tr>\n",
       "      <th>12349</th>\n",
       "      <td>20</td>\n",
       "      <td>73</td>\n",
       "      <td>605.10</td>\n",
       "      <td>20</td>\n",
       "      <td>3</td>\n",
       "      <td>3</td>\n",
       "      <td>4</td>\n",
       "      <td>1</td>\n",
       "      <td>3341</td>\n",
       "      <td>11</td>\n",
       "    </tr>\n",
       "    <tr>\n",
       "      <th>12350</th>\n",
       "      <td>311</td>\n",
       "      <td>17</td>\n",
       "      <td>65.30</td>\n",
       "      <td>311</td>\n",
       "      <td>1</td>\n",
       "      <td>1</td>\n",
       "      <td>2</td>\n",
       "      <td>3</td>\n",
       "      <td>1123</td>\n",
       "      <td>7</td>\n",
       "    </tr>\n",
       "    <tr>\n",
       "      <th>...</th>\n",
       "      <td>...</td>\n",
       "      <td>...</td>\n",
       "      <td>...</td>\n",
       "      <td>...</td>\n",
       "      <td>...</td>\n",
       "      <td>...</td>\n",
       "      <td>...</td>\n",
       "      <td>...</td>\n",
       "      <td>...</td>\n",
       "      <td>...</td>\n",
       "    </tr>\n",
       "    <tr>\n",
       "      <th>18280</th>\n",
       "      <td>279</td>\n",
       "      <td>10</td>\n",
       "      <td>47.65</td>\n",
       "      <td>279</td>\n",
       "      <td>1</td>\n",
       "      <td>1</td>\n",
       "      <td>1</td>\n",
       "      <td>3</td>\n",
       "      <td>1113</td>\n",
       "      <td>6</td>\n",
       "    </tr>\n",
       "    <tr>\n",
       "      <th>18281</th>\n",
       "      <td>182</td>\n",
       "      <td>7</td>\n",
       "      <td>39.36</td>\n",
       "      <td>182</td>\n",
       "      <td>1</td>\n",
       "      <td>1</td>\n",
       "      <td>1</td>\n",
       "      <td>2</td>\n",
       "      <td>1112</td>\n",
       "      <td>5</td>\n",
       "    </tr>\n",
       "    <tr>\n",
       "      <th>18282</th>\n",
       "      <td>9</td>\n",
       "      <td>13</td>\n",
       "      <td>62.68</td>\n",
       "      <td>127</td>\n",
       "      <td>4</td>\n",
       "      <td>1</td>\n",
       "      <td>2</td>\n",
       "      <td>2</td>\n",
       "      <td>4122</td>\n",
       "      <td>9</td>\n",
       "    </tr>\n",
       "    <tr>\n",
       "      <th>18283</th>\n",
       "      <td>5</td>\n",
       "      <td>756</td>\n",
       "      <td>1220.93</td>\n",
       "      <td>338</td>\n",
       "      <td>4</td>\n",
       "      <td>4</td>\n",
       "      <td>4</td>\n",
       "      <td>4</td>\n",
       "      <td>4444</td>\n",
       "      <td>16</td>\n",
       "    </tr>\n",
       "    <tr>\n",
       "      <th>18287</th>\n",
       "      <td>44</td>\n",
       "      <td>70</td>\n",
       "      <td>104.55</td>\n",
       "      <td>203</td>\n",
       "      <td>3</td>\n",
       "      <td>3</td>\n",
       "      <td>2</td>\n",
       "      <td>2</td>\n",
       "      <td>3322</td>\n",
       "      <td>10</td>\n",
       "    </tr>\n",
       "  </tbody>\n",
       "</table>\n",
       "<p>4371 rows × 10 columns</p>\n",
       "</div>"
      ],
      "text/plain": [
       "            Recency  Frequency  Monetary_Value  Tenure  R  F  M  T Segment  \\\n",
       "CustomerID                                                                   \n",
       "12346           327          2            2.08     327  1  1  1  3    1113   \n",
       "12347             3        182          481.21     368  4  4  4  4    4444   \n",
       "12348            76         31          178.71     359  2  2  3  4    2234   \n",
       "12349            20         73          605.10      20  3  3  4  1    3341   \n",
       "12350           311         17           65.30     311  1  1  2  3    1123   \n",
       "...             ...        ...             ...     ... .. .. .. ..     ...   \n",
       "18280           279         10           47.65     279  1  1  1  3    1113   \n",
       "18281           182          7           39.36     182  1  1  1  2    1112   \n",
       "18282             9         13           62.68     127  4  1  2  2    4122   \n",
       "18283             5        756         1220.93     338  4  4  4  4    4444   \n",
       "18287            44         70          104.55     203  3  3  2  2    3322   \n",
       "\n",
       "            Score  \n",
       "CustomerID         \n",
       "12346           6  \n",
       "12347          16  \n",
       "12348          11  \n",
       "12349          11  \n",
       "12350           7  \n",
       "...           ...  \n",
       "18280           6  \n",
       "18281           5  \n",
       "18282           9  \n",
       "18283          16  \n",
       "18287          10  \n",
       "\n",
       "[4371 rows x 10 columns]"
      ]
     },
     "execution_count": 36,
     "metadata": {},
     "output_type": "execute_result"
    }
   ],
   "source": [
    "rfmt['Score'] = rfmt[['R','F','M','T']].sum(axis=1).astype('int')\n",
    "rfmt"
   ]
  },
  {
   "cell_type": "markdown",
   "metadata": {},
   "source": [
    "### Analyzinf RFMT Segments"
   ]
  },
  {
   "cell_type": "code",
   "execution_count": 37,
   "metadata": {
    "cell_style": "split"
   },
   "outputs": [
    {
     "data": {
      "text/plain": [
       "Segment\n",
       "4444    285\n",
       "1112    164\n",
       "1113    154\n",
       "2111    151\n",
       "3111    118\n",
       "3444    111\n",
       "4443    110\n",
       "1114     96\n",
       "3443     93\n",
       "2221     92\n",
       "dtype: int64"
      ]
     },
     "execution_count": 37,
     "metadata": {},
     "output_type": "execute_result"
    }
   ],
   "source": [
    "# Calculate size of segments\n",
    "rfmt.groupby('Segment').size().sort_values(ascending=False)[:10]"
   ]
  },
  {
   "cell_type": "code",
   "execution_count": 38,
   "metadata": {
    "cell_style": "split"
   },
   "outputs": [
    {
     "data": {
      "text/plain": [
       "Score\n",
       "7     501\n",
       "6     445\n",
       "8     441\n",
       "9     429\n",
       "11    389\n",
       "10    384\n",
       "5     315\n",
       "12    314\n",
       "13    309\n",
       "14    296\n",
       "dtype: int64"
      ]
     },
     "execution_count": 38,
     "metadata": {},
     "output_type": "execute_result"
    }
   ],
   "source": [
    "# Calculate size of Scores\n",
    "rfmt.groupby('Score').size().sort_values(ascending=False)[:10]"
   ]
  },
  {
   "cell_type": "code",
   "execution_count": 39,
   "metadata": {
    "cell_style": "center",
    "scrolled": true
   },
   "outputs": [
    {
     "data": {
      "text/html": [
       "<div>\n",
       "<style scoped>\n",
       "    .dataframe tbody tr th:only-of-type {\n",
       "        vertical-align: middle;\n",
       "    }\n",
       "\n",
       "    .dataframe tbody tr th {\n",
       "        vertical-align: top;\n",
       "    }\n",
       "\n",
       "    .dataframe thead th {\n",
       "        text-align: right;\n",
       "    }\n",
       "</style>\n",
       "<table border=\"1\" class=\"dataframe\">\n",
       "  <thead>\n",
       "    <tr style=\"text-align: right;\">\n",
       "      <th></th>\n",
       "      <th>Recency_avg</th>\n",
       "      <th>Frequency_avg</th>\n",
       "      <th>Monetary_avg</th>\n",
       "      <th>Tenure</th>\n",
       "    </tr>\n",
       "    <tr>\n",
       "      <th>Score</th>\n",
       "      <th></th>\n",
       "      <th></th>\n",
       "      <th></th>\n",
       "      <th></th>\n",
       "    </tr>\n",
       "  </thead>\n",
       "  <tbody>\n",
       "    <tr>\n",
       "      <th>5</th>\n",
       "      <td>141.473016</td>\n",
       "      <td>8.279365</td>\n",
       "      <td>23.121810</td>\n",
       "      <td>143.834921</td>\n",
       "    </tr>\n",
       "    <tr>\n",
       "      <th>6</th>\n",
       "      <td>158.056180</td>\n",
       "      <td>10.784270</td>\n",
       "      <td>30.773171</td>\n",
       "      <td>170.932584</td>\n",
       "    </tr>\n",
       "    <tr>\n",
       "      <th>7</th>\n",
       "      <td>156.782435</td>\n",
       "      <td>17.451098</td>\n",
       "      <td>55.069202</td>\n",
       "      <td>186.524950</td>\n",
       "    </tr>\n",
       "    <tr>\n",
       "      <th>8</th>\n",
       "      <td>132.163265</td>\n",
       "      <td>25.514739</td>\n",
       "      <td>196.333107</td>\n",
       "      <td>185.451247</td>\n",
       "    </tr>\n",
       "    <tr>\n",
       "      <th>9</th>\n",
       "      <td>112.279720</td>\n",
       "      <td>36.557110</td>\n",
       "      <td>119.202494</td>\n",
       "      <td>194.890443</td>\n",
       "    </tr>\n",
       "    <tr>\n",
       "      <th>10</th>\n",
       "      <td>88.640625</td>\n",
       "      <td>51.656250</td>\n",
       "      <td>168.607531</td>\n",
       "      <td>217.630208</td>\n",
       "    </tr>\n",
       "    <tr>\n",
       "      <th>11</th>\n",
       "      <td>71.439589</td>\n",
       "      <td>68.940874</td>\n",
       "      <td>218.627843</td>\n",
       "      <td>219.748072</td>\n",
       "    </tr>\n",
       "    <tr>\n",
       "      <th>12</th>\n",
       "      <td>49.445860</td>\n",
       "      <td>94.550955</td>\n",
       "      <td>295.457898</td>\n",
       "      <td>249.974522</td>\n",
       "    </tr>\n",
       "    <tr>\n",
       "      <th>13</th>\n",
       "      <td>46.809061</td>\n",
       "      <td>152.456311</td>\n",
       "      <td>679.041133</td>\n",
       "      <td>266.695793</td>\n",
       "    </tr>\n",
       "    <tr>\n",
       "      <th>14</th>\n",
       "      <td>28.020270</td>\n",
       "      <td>173.148649</td>\n",
       "      <td>543.898750</td>\n",
       "      <td>298.743243</td>\n",
       "    </tr>\n",
       "    <tr>\n",
       "      <th>15</th>\n",
       "      <td>17.562738</td>\n",
       "      <td>252.946768</td>\n",
       "      <td>850.351293</td>\n",
       "      <td>336.836502</td>\n",
       "    </tr>\n",
       "    <tr>\n",
       "      <th>16</th>\n",
       "      <td>7.505263</td>\n",
       "      <td>429.873684</td>\n",
       "      <td>1349.146175</td>\n",
       "      <td>365.838596</td>\n",
       "    </tr>\n",
       "  </tbody>\n",
       "</table>\n",
       "</div>"
      ],
      "text/plain": [
       "       Recency_avg  Frequency_avg  Monetary_avg      Tenure\n",
       "Score                                                      \n",
       "5       141.473016       8.279365     23.121810  143.834921\n",
       "6       158.056180      10.784270     30.773171  170.932584\n",
       "7       156.782435      17.451098     55.069202  186.524950\n",
       "8       132.163265      25.514739    196.333107  185.451247\n",
       "9       112.279720      36.557110    119.202494  194.890443\n",
       "10       88.640625      51.656250    168.607531  217.630208\n",
       "11       71.439589      68.940874    218.627843  219.748072\n",
       "12       49.445860      94.550955    295.457898  249.974522\n",
       "13       46.809061     152.456311    679.041133  266.695793\n",
       "14       28.020270     173.148649    543.898750  298.743243\n",
       "15       17.562738     252.946768    850.351293  336.836502\n",
       "16        7.505263     429.873684   1349.146175  365.838596"
      ]
     },
     "execution_count": 39,
     "metadata": {},
     "output_type": "execute_result"
    }
   ],
   "source": [
    "# Summary metrics for RFMT Score\n",
    "rfmt.groupby('Score').agg(Recency_avg = ('Recency','mean'),\n",
    "                         Frequency_avg = ('Frequency','mean'), \n",
    "                         Monetary_avg =('Monetary_Value','mean'),\n",
    "                         Tenure =('Tenure','mean'))"
   ]
  },
  {
   "cell_type": "code",
   "execution_count": 40,
   "metadata": {},
   "outputs": [
    {
     "data": {
      "text/plain": [
       "count    4371.000000\n",
       "mean        9.996340\n",
       "std         3.303626\n",
       "min         5.000000\n",
       "25%         7.000000\n",
       "50%        10.000000\n",
       "75%        13.000000\n",
       "max        16.000000\n",
       "Name: Score, dtype: float64"
      ]
     },
     "execution_count": 40,
     "metadata": {},
     "output_type": "execute_result"
    }
   ],
   "source": [
    "# Review distiburion of RFMT Score\n",
    "rfmt.Score.describe()"
   ]
  },
  {
   "cell_type": "code",
   "execution_count": 41,
   "metadata": {},
   "outputs": [],
   "source": [
    "# function for grouping into named segemnts by RFM Score\n",
    "def segment_me(df):\n",
    "    if df['Score'] >= 13:\n",
    "        return 'Top'\n",
    "    elif df['Score'] >=9 and (df['Score'] < 13):\n",
    "        return 'Middle'\n",
    "    else:\n",
    "        return 'Bottom'"
   ]
  },
  {
   "cell_type": "code",
   "execution_count": 42,
   "metadata": {},
   "outputs": [
    {
     "data": {
      "text/html": [
       "<div>\n",
       "<style scoped>\n",
       "    .dataframe tbody tr th:only-of-type {\n",
       "        vertical-align: middle;\n",
       "    }\n",
       "\n",
       "    .dataframe tbody tr th {\n",
       "        vertical-align: top;\n",
       "    }\n",
       "\n",
       "    .dataframe thead th {\n",
       "        text-align: right;\n",
       "    }\n",
       "</style>\n",
       "<table border=\"1\" class=\"dataframe\">\n",
       "  <thead>\n",
       "    <tr style=\"text-align: right;\">\n",
       "      <th></th>\n",
       "      <th>Recency</th>\n",
       "      <th>Frequency</th>\n",
       "      <th>Monetary_Value</th>\n",
       "      <th>Tenure</th>\n",
       "      <th>R</th>\n",
       "      <th>F</th>\n",
       "      <th>M</th>\n",
       "      <th>T</th>\n",
       "      <th>Segment</th>\n",
       "      <th>Score</th>\n",
       "      <th>General_Segment</th>\n",
       "    </tr>\n",
       "    <tr>\n",
       "      <th>CustomerID</th>\n",
       "      <th></th>\n",
       "      <th></th>\n",
       "      <th></th>\n",
       "      <th></th>\n",
       "      <th></th>\n",
       "      <th></th>\n",
       "      <th></th>\n",
       "      <th></th>\n",
       "      <th></th>\n",
       "      <th></th>\n",
       "      <th></th>\n",
       "    </tr>\n",
       "  </thead>\n",
       "  <tbody>\n",
       "    <tr>\n",
       "      <th>12346</th>\n",
       "      <td>327</td>\n",
       "      <td>2</td>\n",
       "      <td>2.08</td>\n",
       "      <td>327</td>\n",
       "      <td>1</td>\n",
       "      <td>1</td>\n",
       "      <td>1</td>\n",
       "      <td>3</td>\n",
       "      <td>1113</td>\n",
       "      <td>6</td>\n",
       "      <td>Bottom</td>\n",
       "    </tr>\n",
       "    <tr>\n",
       "      <th>12347</th>\n",
       "      <td>3</td>\n",
       "      <td>182</td>\n",
       "      <td>481.21</td>\n",
       "      <td>368</td>\n",
       "      <td>4</td>\n",
       "      <td>4</td>\n",
       "      <td>4</td>\n",
       "      <td>4</td>\n",
       "      <td>4444</td>\n",
       "      <td>16</td>\n",
       "      <td>Top</td>\n",
       "    </tr>\n",
       "    <tr>\n",
       "      <th>12348</th>\n",
       "      <td>76</td>\n",
       "      <td>31</td>\n",
       "      <td>178.71</td>\n",
       "      <td>359</td>\n",
       "      <td>2</td>\n",
       "      <td>2</td>\n",
       "      <td>3</td>\n",
       "      <td>4</td>\n",
       "      <td>2234</td>\n",
       "      <td>11</td>\n",
       "      <td>Middle</td>\n",
       "    </tr>\n",
       "    <tr>\n",
       "      <th>12349</th>\n",
       "      <td>20</td>\n",
       "      <td>73</td>\n",
       "      <td>605.10</td>\n",
       "      <td>20</td>\n",
       "      <td>3</td>\n",
       "      <td>3</td>\n",
       "      <td>4</td>\n",
       "      <td>1</td>\n",
       "      <td>3341</td>\n",
       "      <td>11</td>\n",
       "      <td>Middle</td>\n",
       "    </tr>\n",
       "    <tr>\n",
       "      <th>12350</th>\n",
       "      <td>311</td>\n",
       "      <td>17</td>\n",
       "      <td>65.30</td>\n",
       "      <td>311</td>\n",
       "      <td>1</td>\n",
       "      <td>1</td>\n",
       "      <td>2</td>\n",
       "      <td>3</td>\n",
       "      <td>1123</td>\n",
       "      <td>7</td>\n",
       "      <td>Bottom</td>\n",
       "    </tr>\n",
       "  </tbody>\n",
       "</table>\n",
       "</div>"
      ],
      "text/plain": [
       "            Recency  Frequency  Monetary_Value  Tenure  R  F  M  T Segment  \\\n",
       "CustomerID                                                                   \n",
       "12346           327          2            2.08     327  1  1  1  3    1113   \n",
       "12347             3        182          481.21     368  4  4  4  4    4444   \n",
       "12348            76         31          178.71     359  2  2  3  4    2234   \n",
       "12349            20         73          605.10      20  3  3  4  1    3341   \n",
       "12350           311         17           65.30     311  1  1  2  3    1123   \n",
       "\n",
       "            Score General_Segment  \n",
       "CustomerID                         \n",
       "12346           6          Bottom  \n",
       "12347          16             Top  \n",
       "12348          11          Middle  \n",
       "12349          11          Middle  \n",
       "12350           7          Bottom  "
      ]
     },
     "execution_count": 42,
     "metadata": {},
     "output_type": "execute_result"
    }
   ],
   "source": [
    "rfmt['General_Segment'] = rfmt.apply(segment_me, axis=1)\n",
    "rfmt.head()"
   ]
  },
  {
   "cell_type": "code",
   "execution_count": 43,
   "metadata": {},
   "outputs": [
    {
     "data": {
      "text/html": [
       "<div>\n",
       "<style scoped>\n",
       "    .dataframe tbody tr th:only-of-type {\n",
       "        vertical-align: middle;\n",
       "    }\n",
       "\n",
       "    .dataframe tbody tr th {\n",
       "        vertical-align: top;\n",
       "    }\n",
       "\n",
       "    .dataframe thead th {\n",
       "        text-align: right;\n",
       "    }\n",
       "</style>\n",
       "<table border=\"1\" class=\"dataframe\">\n",
       "  <thead>\n",
       "    <tr style=\"text-align: right;\">\n",
       "      <th></th>\n",
       "      <th>Size</th>\n",
       "      <th>Recency_avg</th>\n",
       "      <th>Frequency_avg</th>\n",
       "      <th>Monetary_avg</th>\n",
       "      <th>Tenure_avg</th>\n",
       "    </tr>\n",
       "    <tr>\n",
       "      <th>General_Segment</th>\n",
       "      <th></th>\n",
       "      <th></th>\n",
       "      <th></th>\n",
       "      <th></th>\n",
       "      <th></th>\n",
       "    </tr>\n",
       "  </thead>\n",
       "  <tbody>\n",
       "    <tr>\n",
       "      <th>Top</th>\n",
       "      <td>1153</td>\n",
       "      <td>25.6</td>\n",
       "      <td>249.3</td>\n",
       "      <td>849.1</td>\n",
       "      <td>315.4</td>\n",
       "    </tr>\n",
       "    <tr>\n",
       "      <th>Middle</th>\n",
       "      <td>1516</td>\n",
       "      <td>82.8</td>\n",
       "      <td>60.7</td>\n",
       "      <td>193.7</td>\n",
       "      <td>218.4</td>\n",
       "    </tr>\n",
       "    <tr>\n",
       "      <th>Bottom</th>\n",
       "      <td>1702</td>\n",
       "      <td>147.9</td>\n",
       "      <td>16.1</td>\n",
       "      <td>79.4</td>\n",
       "      <td>174.3</td>\n",
       "    </tr>\n",
       "  </tbody>\n",
       "</table>\n",
       "</div>"
      ],
      "text/plain": [
       "                 Size  Recency_avg  Frequency_avg  Monetary_avg  Tenure_avg\n",
       "General_Segment                                                            \n",
       "Top              1153         25.6          249.3         849.1       315.4\n",
       "Middle           1516         82.8           60.7         193.7       218.4\n",
       "Bottom           1702        147.9           16.1          79.4       174.3"
      ]
     },
     "execution_count": 43,
     "metadata": {},
     "output_type": "execute_result"
    }
   ],
   "source": [
    "segments = rfmt.groupby('General_Segment').agg(Size = ('General_Segment','count'),\n",
    "                                   Recency_avg = ('Recency','mean'), \n",
    "                                   Frequency_avg = ('Frequency','mean'), \n",
    "                                   Monetary_avg = ('Monetary_Value', 'mean'),\n",
    "                                   Tenure_avg = ('Tenure','mean')).round(1).reindex(['Top', 'Middle', 'Bottom'])\n",
    "segments"
   ]
  },
  {
   "cell_type": "code",
   "execution_count": 44,
   "metadata": {},
   "outputs": [],
   "source": [
    "segments['Share_Percent'] = (segments.Size/np.sum(segments.Size)*100).round(2)"
   ]
  },
  {
   "cell_type": "code",
   "execution_count": 45,
   "metadata": {},
   "outputs": [
    {
     "data": {
      "text/html": [
       "<div>\n",
       "<style scoped>\n",
       "    .dataframe tbody tr th:only-of-type {\n",
       "        vertical-align: middle;\n",
       "    }\n",
       "\n",
       "    .dataframe tbody tr th {\n",
       "        vertical-align: top;\n",
       "    }\n",
       "\n",
       "    .dataframe thead th {\n",
       "        text-align: right;\n",
       "    }\n",
       "</style>\n",
       "<table border=\"1\" class=\"dataframe\">\n",
       "  <thead>\n",
       "    <tr style=\"text-align: right;\">\n",
       "      <th></th>\n",
       "      <th>Size</th>\n",
       "      <th>Share_Percent</th>\n",
       "      <th>Recency_avg</th>\n",
       "      <th>Frequency_avg</th>\n",
       "      <th>Monetary_avg</th>\n",
       "    </tr>\n",
       "    <tr>\n",
       "      <th>General_Segment</th>\n",
       "      <th></th>\n",
       "      <th></th>\n",
       "      <th></th>\n",
       "      <th></th>\n",
       "      <th></th>\n",
       "    </tr>\n",
       "  </thead>\n",
       "  <tbody>\n",
       "    <tr>\n",
       "      <th>Top</th>\n",
       "      <td>1153</td>\n",
       "      <td>26.38</td>\n",
       "      <td>25.6</td>\n",
       "      <td>249.3</td>\n",
       "      <td>849.1</td>\n",
       "    </tr>\n",
       "    <tr>\n",
       "      <th>Middle</th>\n",
       "      <td>1516</td>\n",
       "      <td>34.68</td>\n",
       "      <td>82.8</td>\n",
       "      <td>60.7</td>\n",
       "      <td>193.7</td>\n",
       "    </tr>\n",
       "    <tr>\n",
       "      <th>Bottom</th>\n",
       "      <td>1702</td>\n",
       "      <td>38.94</td>\n",
       "      <td>147.9</td>\n",
       "      <td>16.1</td>\n",
       "      <td>79.4</td>\n",
       "    </tr>\n",
       "  </tbody>\n",
       "</table>\n",
       "</div>"
      ],
      "text/plain": [
       "                 Size  Share_Percent  Recency_avg  Frequency_avg  Monetary_avg\n",
       "General_Segment                                                               \n",
       "Top              1153          26.38         25.6          249.3         849.1\n",
       "Middle           1516          34.68         82.8           60.7         193.7\n",
       "Bottom           1702          38.94        147.9           16.1          79.4"
      ]
     },
     "execution_count": 45,
     "metadata": {},
     "output_type": "execute_result"
    }
   ],
   "source": [
    "segments = segments[['Size', 'Share_Percent', 'Recency_avg', 'Frequency_avg', 'Monetary_avg' ]]\n",
    "segments"
   ]
  },
  {
   "cell_type": "markdown",
   "metadata": {},
   "source": [
    "# <font color='teal'> Data Pre-Processing for k-means Clustering for Unsupervised Learning</font>"
   ]
  },
  {
   "cell_type": "markdown",
   "metadata": {},
   "source": [
    "### Assumptions about data for k-means##\n",
    "<br>\n",
    " 1. Symetric distribution of variables (not skewed)<br>\n",
    " 2. All variables have same average values to get equal weight in k-means calculation<br>\n",
    " 3. All variables have the same variance <br> "
   ]
  },
  {
   "cell_type": "markdown",
   "metadata": {},
   "source": [
    "### 1. Managing skewed variables"
   ]
  },
  {
   "cell_type": "code",
   "execution_count": 46,
   "metadata": {},
   "outputs": [],
   "source": [
    "#Creating rfmt_data for preprocessing\n",
    "rfmt_data = rfmt[['Recency', 'Frequency','Monetary_Value', 'Tenure']]\n",
    "\n",
    "#Unskew the data\n",
    "rfmt_log = np.log(rfmt_data)\n",
    "\n",
    "#Initialize a standard scaler and fit it\n",
    "scaler = StandardScaler()\n",
    "scaler.fit(rfmt_log)\n",
    "\n",
    "#Scale and center the data\n",
    "rfmt_normalized = scaler.transform(rfmt_log)\n",
    "\n",
    "#Create a pandas DataFrame\n",
    "rfmt_normalized = pd.DataFrame(data=rfmt_normalized, index=rfmt_data.index, columns=rfmt_data.columns)"
   ]
  },
  {
   "cell_type": "code",
   "execution_count": 47,
   "metadata": {},
   "outputs": [
    {
     "data": {
      "image/png": "[encoded data removed]",
      "text/plain": [
       "<Figure size 432x288 with 4 Axes>"
      ]
     },
     "metadata": {
      "needs_background": "light"
     },
     "output_type": "display_data"
    }
   ],
   "source": [
    "_=plt.subplot(4,1,1); sns.distplot(rfmt_normalized['Recency'], color='red')\n",
    "_=plt.subplot(4,1,2); sns.distplot(rfmt_normalized['Frequency'], color='deepskyblue')\n",
    "_=plt.subplot(4,1,3); sns.distplot(rfmt_normalized['Monetary_Value'], color='green')\n",
    "_=plt.subplot(4,1,4); sns.distplot(rfmt_normalized['Tenure'], color='orange')\n",
    "plt.show()"
   ]
  },
  {
   "cell_type": "code",
   "execution_count": 50,
   "metadata": {},
   "outputs": [],
   "source": [
    "# To avoid manual transformation, use Stadard Scaller\n",
    "\n",
    "# Combining centering and scaling automatically\n",
    "scaler = StandardScaler()\n",
    "scaler.fit(rfmt_log)\n",
    "\n",
    "# Store seprate array for clustering\n",
    "rfmt_normalized = scaler.transform(rfmt_log)"
   ]
  },
  {
   "cell_type": "code",
   "execution_count": 51,
   "metadata": {
    "scrolled": true
   },
   "outputs": [
    {
     "data": {
      "text/html": [
       "<div>\n",
       "<style scoped>\n",
       "    .dataframe tbody tr th:only-of-type {\n",
       "        vertical-align: middle;\n",
       "    }\n",
       "\n",
       "    .dataframe tbody tr th {\n",
       "        vertical-align: top;\n",
       "    }\n",
       "\n",
       "    .dataframe thead th {\n",
       "        text-align: right;\n",
       "    }\n",
       "</style>\n",
       "<table border=\"1\" class=\"dataframe\">\n",
       "  <thead>\n",
       "    <tr style=\"text-align: right;\">\n",
       "      <th></th>\n",
       "      <th>Recency</th>\n",
       "      <th>Frequency</th>\n",
       "      <th>Monetary_Value</th>\n",
       "      <th>Tenure</th>\n",
       "    </tr>\n",
       "  </thead>\n",
       "  <tbody>\n",
       "    <tr>\n",
       "      <th>count</th>\n",
       "      <td>4371.00</td>\n",
       "      <td>4371.00</td>\n",
       "      <td>4371.00</td>\n",
       "      <td>4371.00</td>\n",
       "    </tr>\n",
       "    <tr>\n",
       "      <th>mean</th>\n",
       "      <td>0.00</td>\n",
       "      <td>-0.00</td>\n",
       "      <td>-0.00</td>\n",
       "      <td>-0.00</td>\n",
       "    </tr>\n",
       "    <tr>\n",
       "      <th>std</th>\n",
       "      <td>1.00</td>\n",
       "      <td>1.00</td>\n",
       "      <td>1.00</td>\n",
       "      <td>1.00</td>\n",
       "    </tr>\n",
       "    <tr>\n",
       "      <th>min</th>\n",
       "      <td>-2.78</td>\n",
       "      <td>-2.75</td>\n",
       "      <td>-4.65</td>\n",
       "      <td>-5.07</td>\n",
       "    </tr>\n",
       "    <tr>\n",
       "      <th>25%</th>\n",
       "      <td>-0.66</td>\n",
       "      <td>-0.64</td>\n",
       "      <td>-0.58</td>\n",
       "      <td>-0.46</td>\n",
       "    </tr>\n",
       "    <tr>\n",
       "      <th>50%</th>\n",
       "      <td>0.10</td>\n",
       "      <td>0.04</td>\n",
       "      <td>0.05</td>\n",
       "      <td>0.42</td>\n",
       "    </tr>\n",
       "    <tr>\n",
       "      <th>75%</th>\n",
       "      <td>0.86</td>\n",
       "      <td>0.70</td>\n",
       "      <td>0.65</td>\n",
       "      <td>0.73</td>\n",
       "    </tr>\n",
       "    <tr>\n",
       "      <th>max</th>\n",
       "      <td>1.56</td>\n",
       "      <td>3.96</td>\n",
       "      <td>4.13</td>\n",
       "      <td>0.86</td>\n",
       "    </tr>\n",
       "  </tbody>\n",
       "</table>\n",
       "</div>"
      ],
      "text/plain": [
       "       Recency  Frequency  Monetary_Value   Tenure\n",
       "count  4371.00    4371.00         4371.00  4371.00\n",
       "mean      0.00      -0.00           -0.00    -0.00\n",
       "std       1.00       1.00            1.00     1.00\n",
       "min      -2.78      -2.75           -4.65    -5.07\n",
       "25%      -0.66      -0.64           -0.58    -0.46\n",
       "50%       0.10       0.04            0.05     0.42\n",
       "75%       0.86       0.70            0.65     0.73\n",
       "max       1.56       3.96            4.13     0.86"
      ]
     },
     "execution_count": 51,
     "metadata": {},
     "output_type": "execute_result"
    }
   ],
   "source": [
    "# Converting to dataframe \n",
    "rfmt_normalized= pd.DataFrame(rfmt_normalized,index = rfmt_log.index, columns=rfmt_log.columns)\n",
    "rfmt_normalized.describe().round(2)"
   ]
  },
  {
   "cell_type": "markdown",
   "metadata": {},
   "source": [
    "### Choose a number of clusters with k-means\n",
    "***Methods for defining number of clusters***<br>\n",
    "- Visual methods: elbow criterion (plotting # of clusters against sum-of-squared errors)<br>\n",
    "- Mathmatical methods: silouette coeffcient<br>\n",
    "- Experimentation and iterperation"
   ]
  },
  {
   "cell_type": "code",
   "execution_count": 52,
   "metadata": {
    "scrolled": true
   },
   "outputs": [
    {
     "data": {
      "text/html": [
       "<div>\n",
       "<style scoped>\n",
       "    .dataframe tbody tr th:only-of-type {\n",
       "        vertical-align: middle;\n",
       "    }\n",
       "\n",
       "    .dataframe tbody tr th {\n",
       "        vertical-align: top;\n",
       "    }\n",
       "\n",
       "    .dataframe thead th {\n",
       "        text-align: right;\n",
       "    }\n",
       "</style>\n",
       "<table border=\"1\" class=\"dataframe\">\n",
       "  <thead>\n",
       "    <tr style=\"text-align: right;\">\n",
       "      <th></th>\n",
       "      <th>Size</th>\n",
       "      <th>Recency</th>\n",
       "      <th>Frequency</th>\n",
       "      <th>Monetary_Value</th>\n",
       "      <th>Tenure</th>\n",
       "    </tr>\n",
       "    <tr>\n",
       "      <th>Cluster</th>\n",
       "      <th></th>\n",
       "      <th></th>\n",
       "      <th></th>\n",
       "      <th></th>\n",
       "      <th></th>\n",
       "    </tr>\n",
       "  </thead>\n",
       "  <tbody>\n",
       "    <tr>\n",
       "      <th>0</th>\n",
       "      <td>1799</td>\n",
       "      <td>34.65</td>\n",
       "      <td>188.06</td>\n",
       "      <td>659.11</td>\n",
       "      <td>285.73</td>\n",
       "    </tr>\n",
       "    <tr>\n",
       "      <th>1</th>\n",
       "      <td>1657</td>\n",
       "      <td>187.97</td>\n",
       "      <td>23.49</td>\n",
       "      <td>84.40</td>\n",
       "      <td>258.91</td>\n",
       "    </tr>\n",
       "    <tr>\n",
       "      <th>2</th>\n",
       "      <td>915</td>\n",
       "      <td>36.03</td>\n",
       "      <td>32.33</td>\n",
       "      <td>89.86</td>\n",
       "      <td>52.90</td>\n",
       "    </tr>\n",
       "  </tbody>\n",
       "</table>\n",
       "</div>"
      ],
      "text/plain": [
       "         Size  Recency  Frequency  Monetary_Value  Tenure\n",
       "Cluster                                                  \n",
       "0        1799    34.65     188.06          659.11  285.73\n",
       "1        1657   187.97      23.49           84.40  258.91\n",
       "2         915    36.03      32.33           89.86   52.90"
      ]
     },
     "execution_count": 52,
     "metadata": {},
     "output_type": "execute_result"
    }
   ],
   "source": [
    "### Manual cluster selection ### \n",
    "#Initialize kmeans\n",
    "kmeans = KMeans(n_clusters=3, random_state=1)\n",
    "\n",
    "# Compute k-means clustering on preprocessed data\n",
    "kmeans.fit(rfmt_normalized)\n",
    "\n",
    "# Extract the cluster labels\n",
    "cluster_labels = kmeans.labels_\n",
    "rfmt_k3 = rfmt.assign(Cluster = cluster_labels)\n",
    "\n",
    "# Analyze result\n",
    "rfmt_k3.groupby(['Cluster']).agg(Size = ('General_Segment','count'),\n",
    "                    Recency = ('Recency','mean'), \n",
    "                              Frequency = ('Frequency','mean'), \n",
    "                              Monetary_Value = ('Monetary_Value','mean'),\n",
    "                                     Tenure=('Tenure','mean')).round(2)"
   ]
  },
  {
   "cell_type": "code",
   "execution_count": 53,
   "metadata": {},
   "outputs": [
    {
     "data": {
      "image/png": "[encoded data removed]",
      "text/plain": [
       "<Figure size 432x288 with 1 Axes>"
      ]
     },
     "metadata": {
      "needs_background": "light"
     },
     "output_type": "display_data"
    }
   ],
   "source": [
    "### Elbow criterion ### \n",
    "\n",
    "#Fit KMeans and calculate SSE for each k\n",
    "sse = {}\n",
    "\n",
    "#Initialize kmeans with k\n",
    "for k in range(1,11):\n",
    "    kmeans = KMeans(n_clusters=k, random_state=1)\n",
    "    kmeans.fit(rfmt_normalized)\n",
    "    sse[k] = kmeans.inertia_ # sum of squared distances to closest cluster center\n",
    "\n",
    "# Plot SSE for each k\n",
    "plt.title(\"The Elbow Method\")\n",
    "plt.xlabel('k'); plt.ylabel('SSE')\n",
    "sns.pointplot(x=list(sse.keys()), y=list(sse.values()))\n",
    "plt.show()"
   ]
  },
  {
   "cell_type": "markdown",
   "metadata": {},
   "source": [
    "### Profile and interpret segments\n",
    "\n",
    "**Aproaches to build customer personas**<br>\n",
    "- Summary statistics for each cluster e.g. average RFM values\n",
    "- Snake plots (from market reserach)\n",
    "- Calculate relative importance of cluster attributes compared to population"
   ]
  },
  {
   "cell_type": "code",
   "execution_count": 54,
   "metadata": {},
   "outputs": [],
   "source": [
    "# Create a cluster label column in the original df with kmeans solution\n",
    "# KMeans elbow shows '3'or'4' as the best number of clusters\n",
    "kmeans4 = KMeans(n_clusters=4, random_state=1)\n",
    "\n",
    "# Compute k-means clustering on preprocessed data\n",
    "kmeans4.fit(rfmt_normalized)\n",
    "\n",
    "# Extract the cluster labels\n",
    "cluster_labels = kmeans4.labels_\n",
    "rfmt_k4 = rfmt.assign(Cluster = cluster_labels)"
   ]
  },
  {
   "cell_type": "code",
   "execution_count": 55,
   "metadata": {},
   "outputs": [],
   "source": [
    "# Create a cluster label column in the original df with alternative solution\n",
    "kmeans3 = KMeans(n_clusters=3, random_state=1)\n",
    "\n",
    "# Compute k-means clustering on preprocessed data\n",
    "kmeans3.fit(rfmt_normalized)\n",
    "\n",
    "# Extract the cluster labels\n",
    "cluster_labels = kmeans3.labels_\n",
    "rfmt_k3 = rfmt.assign(Cluster = cluster_labels)"
   ]
  },
  {
   "cell_type": "code",
   "execution_count": 56,
   "metadata": {},
   "outputs": [
    {
     "data": {
      "text/html": [
       "<div>\n",
       "<style scoped>\n",
       "    .dataframe tbody tr th:only-of-type {\n",
       "        vertical-align: middle;\n",
       "    }\n",
       "\n",
       "    .dataframe tbody tr th {\n",
       "        vertical-align: top;\n",
       "    }\n",
       "\n",
       "    .dataframe thead th {\n",
       "        text-align: right;\n",
       "    }\n",
       "</style>\n",
       "<table border=\"1\" class=\"dataframe\">\n",
       "  <thead>\n",
       "    <tr style=\"text-align: right;\">\n",
       "      <th></th>\n",
       "      <th>Size</th>\n",
       "      <th>Recency</th>\n",
       "      <th>Frequency</th>\n",
       "      <th>Monetary_Value</th>\n",
       "      <th>Tenure</th>\n",
       "    </tr>\n",
       "    <tr>\n",
       "      <th>Cluster</th>\n",
       "      <th></th>\n",
       "      <th></th>\n",
       "      <th></th>\n",
       "      <th></th>\n",
       "      <th></th>\n",
       "    </tr>\n",
       "  </thead>\n",
       "  <tbody>\n",
       "    <tr>\n",
       "      <th>0</th>\n",
       "      <td>851</td>\n",
       "      <td>33.15</td>\n",
       "      <td>35.10</td>\n",
       "      <td>99.74</td>\n",
       "      <td>49.51</td>\n",
       "    </tr>\n",
       "    <tr>\n",
       "      <th>1</th>\n",
       "      <td>1498</td>\n",
       "      <td>137.03</td>\n",
       "      <td>51.35</td>\n",
       "      <td>203.21</td>\n",
       "      <td>264.39</td>\n",
       "    </tr>\n",
       "    <tr>\n",
       "      <th>2</th>\n",
       "      <td>760</td>\n",
       "      <td>197.80</td>\n",
       "      <td>8.53</td>\n",
       "      <td>26.67</td>\n",
       "      <td>237.46</td>\n",
       "    </tr>\n",
       "    <tr>\n",
       "      <th>3</th>\n",
       "      <td>1262</td>\n",
       "      <td>18.19</td>\n",
       "      <td>232.60</td>\n",
       "      <td>791.02</td>\n",
       "      <td>295.40</td>\n",
       "    </tr>\n",
       "  </tbody>\n",
       "</table>\n",
       "</div>"
      ],
      "text/plain": [
       "         Size  Recency  Frequency  Monetary_Value  Tenure\n",
       "Cluster                                                  \n",
       "0         851    33.15      35.10           99.74   49.51\n",
       "1        1498   137.03      51.35          203.21  264.39\n",
       "2         760   197.80       8.53           26.67  237.46\n",
       "3        1262    18.19     232.60          791.02  295.40"
      ]
     },
     "execution_count": 56,
     "metadata": {},
     "output_type": "execute_result"
    }
   ],
   "source": [
    "# Calculate average RFM values and size k=4 \n",
    "rfmt_k4.groupby(['Cluster']).agg(Size = ('General_Segment','count'),\n",
    "                    Recency = ('Recency','mean'), \n",
    "                              Frequency = ('Frequency','mean'), \n",
    "                              Monetary_Value = ('Monetary_Value','mean'),\n",
    "                                 Tenure=('Tenure','mean')).round(2)"
   ]
  },
  {
   "cell_type": "code",
   "execution_count": 57,
   "metadata": {},
   "outputs": [
    {
     "data": {
      "text/html": [
       "<div>\n",
       "<style scoped>\n",
       "    .dataframe tbody tr th:only-of-type {\n",
       "        vertical-align: middle;\n",
       "    }\n",
       "\n",
       "    .dataframe tbody tr th {\n",
       "        vertical-align: top;\n",
       "    }\n",
       "\n",
       "    .dataframe thead th {\n",
       "        text-align: right;\n",
       "    }\n",
       "</style>\n",
       "<table border=\"1\" class=\"dataframe\">\n",
       "  <thead>\n",
       "    <tr style=\"text-align: right;\">\n",
       "      <th></th>\n",
       "      <th>Size</th>\n",
       "      <th>Recency</th>\n",
       "      <th>Frequency</th>\n",
       "      <th>Monetary_Value</th>\n",
       "      <th>Tenure</th>\n",
       "    </tr>\n",
       "    <tr>\n",
       "      <th>Cluster</th>\n",
       "      <th></th>\n",
       "      <th></th>\n",
       "      <th></th>\n",
       "      <th></th>\n",
       "      <th></th>\n",
       "    </tr>\n",
       "  </thead>\n",
       "  <tbody>\n",
       "    <tr>\n",
       "      <th>0</th>\n",
       "      <td>1799</td>\n",
       "      <td>34.65</td>\n",
       "      <td>188.06</td>\n",
       "      <td>659.11</td>\n",
       "      <td>285.73</td>\n",
       "    </tr>\n",
       "    <tr>\n",
       "      <th>1</th>\n",
       "      <td>1657</td>\n",
       "      <td>187.97</td>\n",
       "      <td>23.49</td>\n",
       "      <td>84.40</td>\n",
       "      <td>258.91</td>\n",
       "    </tr>\n",
       "    <tr>\n",
       "      <th>2</th>\n",
       "      <td>915</td>\n",
       "      <td>36.03</td>\n",
       "      <td>32.33</td>\n",
       "      <td>89.86</td>\n",
       "      <td>52.90</td>\n",
       "    </tr>\n",
       "  </tbody>\n",
       "</table>\n",
       "</div>"
      ],
      "text/plain": [
       "         Size  Recency  Frequency  Monetary_Value  Tenure\n",
       "Cluster                                                  \n",
       "0        1799    34.65     188.06          659.11  285.73\n",
       "1        1657   187.97      23.49           84.40  258.91\n",
       "2         915    36.03      32.33           89.86   52.90"
      ]
     },
     "execution_count": 57,
     "metadata": {},
     "output_type": "execute_result"
    }
   ],
   "source": [
    "# Calculate average RFM values and size for k=3\n",
    "rfmt_k3.groupby(['Cluster']).agg(Size = ('General_Segment','count'),\n",
    "                    Recency = ('Recency','mean'), \n",
    "                              Frequency = ('Frequency','mean'), \n",
    "                              Monetary_Value = ('Monetary_Value','mean'),\n",
    "                                 Tenure=('Tenure','mean')).round(2)"
   ]
  },
  {
   "cell_type": "markdown",
   "metadata": {},
   "source": [
    "### Snake plots to understand segements\n",
    "- Market research technique to compare different segments\n",
    "- Visual representation of each segment's attributes\n",
    "- Need to first normalize (already done in steps above)"
   ]
  },
  {
   "cell_type": "code",
   "execution_count": 58,
   "metadata": {},
   "outputs": [],
   "source": [
    "# Choosing only relevant columns where n_clusters = 4\n",
    "rfmt_snake4 = rfmt_k4[['Recency', 'Frequency', 'Monetary_Value','Tenure','Cluster']]"
   ]
  },
  {
   "cell_type": "code",
   "execution_count": 59,
   "metadata": {},
   "outputs": [
    {
     "data": {
      "text/html": [
       "<div>\n",
       "<style scoped>\n",
       "    .dataframe tbody tr th:only-of-type {\n",
       "        vertical-align: middle;\n",
       "    }\n",
       "\n",
       "    .dataframe tbody tr th {\n",
       "        vertical-align: top;\n",
       "    }\n",
       "\n",
       "    .dataframe thead th {\n",
       "        text-align: right;\n",
       "    }\n",
       "</style>\n",
       "<table border=\"1\" class=\"dataframe\">\n",
       "  <thead>\n",
       "    <tr style=\"text-align: right;\">\n",
       "      <th></th>\n",
       "      <th>CustomerID</th>\n",
       "      <th>Cluster</th>\n",
       "      <th>Attribute</th>\n",
       "      <th>Value</th>\n",
       "    </tr>\n",
       "  </thead>\n",
       "  <tbody>\n",
       "    <tr>\n",
       "      <th>0</th>\n",
       "      <td>12346</td>\n",
       "      <td>2</td>\n",
       "      <td>Recency</td>\n",
       "      <td>327.0</td>\n",
       "    </tr>\n",
       "    <tr>\n",
       "      <th>1</th>\n",
       "      <td>12347</td>\n",
       "      <td>3</td>\n",
       "      <td>Recency</td>\n",
       "      <td>3.0</td>\n",
       "    </tr>\n",
       "    <tr>\n",
       "      <th>2</th>\n",
       "      <td>12348</td>\n",
       "      <td>1</td>\n",
       "      <td>Recency</td>\n",
       "      <td>76.0</td>\n",
       "    </tr>\n",
       "    <tr>\n",
       "      <th>3</th>\n",
       "      <td>12349</td>\n",
       "      <td>0</td>\n",
       "      <td>Recency</td>\n",
       "      <td>20.0</td>\n",
       "    </tr>\n",
       "    <tr>\n",
       "      <th>4</th>\n",
       "      <td>12350</td>\n",
       "      <td>1</td>\n",
       "      <td>Recency</td>\n",
       "      <td>311.0</td>\n",
       "    </tr>\n",
       "  </tbody>\n",
       "</table>\n",
       "</div>"
      ],
      "text/plain": [
       "   CustomerID  Cluster Attribute  Value\n",
       "0       12346        2   Recency  327.0\n",
       "1       12347        3   Recency    3.0\n",
       "2       12348        1   Recency   76.0\n",
       "3       12349        0   Recency   20.0\n",
       "4       12350        1   Recency  311.0"
      ]
     },
     "execution_count": 59,
     "metadata": {},
     "output_type": "execute_result"
    }
   ],
   "source": [
    "# Melting data into a long format so RFM values and metric names are stored in 1 column each\n",
    "rfmt_melt4 = pd.melt(rfmt_snake4.reset_index(),\n",
    "                  id_vars=['CustomerID','Cluster'],\n",
    "                  value_vars=['Recency', 'Frequency','Monetary_Value','Tenure'],\n",
    "                  var_name='Attribute',\n",
    "                  value_name='Value')\n",
    "rfmt_melt4.head()"
   ]
  },
  {
   "cell_type": "code",
   "execution_count": 60,
   "metadata": {},
   "outputs": [],
   "source": [
    "# Choosing only relevant columns where n_clusters = 3\n",
    "rfmt_snake3 = rfmt_k3[['Recency', 'Frequency', 'Monetary_Value','Tenure','Cluster']]\n"
   ]
  },
  {
   "cell_type": "code",
   "execution_count": 61,
   "metadata": {},
   "outputs": [
    {
     "data": {
      "text/html": [
       "<div>\n",
       "<style scoped>\n",
       "    .dataframe tbody tr th:only-of-type {\n",
       "        vertical-align: middle;\n",
       "    }\n",
       "\n",
       "    .dataframe tbody tr th {\n",
       "        vertical-align: top;\n",
       "    }\n",
       "\n",
       "    .dataframe thead th {\n",
       "        text-align: right;\n",
       "    }\n",
       "</style>\n",
       "<table border=\"1\" class=\"dataframe\">\n",
       "  <thead>\n",
       "    <tr style=\"text-align: right;\">\n",
       "      <th></th>\n",
       "      <th>CustomerID</th>\n",
       "      <th>Cluster</th>\n",
       "      <th>Attribute</th>\n",
       "      <th>Value</th>\n",
       "    </tr>\n",
       "  </thead>\n",
       "  <tbody>\n",
       "    <tr>\n",
       "      <th>0</th>\n",
       "      <td>12346</td>\n",
       "      <td>1</td>\n",
       "      <td>Recency</td>\n",
       "      <td>327.0</td>\n",
       "    </tr>\n",
       "    <tr>\n",
       "      <th>1</th>\n",
       "      <td>12347</td>\n",
       "      <td>0</td>\n",
       "      <td>Recency</td>\n",
       "      <td>3.0</td>\n",
       "    </tr>\n",
       "    <tr>\n",
       "      <th>2</th>\n",
       "      <td>12348</td>\n",
       "      <td>1</td>\n",
       "      <td>Recency</td>\n",
       "      <td>76.0</td>\n",
       "    </tr>\n",
       "    <tr>\n",
       "      <th>3</th>\n",
       "      <td>12349</td>\n",
       "      <td>2</td>\n",
       "      <td>Recency</td>\n",
       "      <td>20.0</td>\n",
       "    </tr>\n",
       "    <tr>\n",
       "      <th>4</th>\n",
       "      <td>12350</td>\n",
       "      <td>1</td>\n",
       "      <td>Recency</td>\n",
       "      <td>311.0</td>\n",
       "    </tr>\n",
       "  </tbody>\n",
       "</table>\n",
       "</div>"
      ],
      "text/plain": [
       "   CustomerID  Cluster Attribute  Value\n",
       "0       12346        1   Recency  327.0\n",
       "1       12347        0   Recency    3.0\n",
       "2       12348        1   Recency   76.0\n",
       "3       12349        2   Recency   20.0\n",
       "4       12350        1   Recency  311.0"
      ]
     },
     "execution_count": 61,
     "metadata": {},
     "output_type": "execute_result"
    }
   ],
   "source": [
    "# Melting data into a long format so RFM values and metric names are stored in 1 column each\n",
    "rfmt_melt3 = pd.melt(rfmt_snake3.reset_index(),\n",
    "                  id_vars=['CustomerID','Cluster'],\n",
    "                  value_vars=['Recency', 'Frequency','Monetary_Value','Tenure'],\n",
    "                  var_name='Attribute',\n",
    "                  value_name='Value')\n",
    "rfmt_melt3.head()"
   ]
  },
  {
   "cell_type": "code",
   "execution_count": 62,
   "metadata": {
    "cell_style": "split",
    "scrolled": false
   },
   "outputs": [
    {
     "data": {
      "image/png": "[encoded data removed]",
      "text/plain": [
       "<Figure size 432x288 with 1 Axes>"
      ]
     },
     "metadata": {
      "needs_background": "light"
     },
     "output_type": "display_data"
    }
   ],
   "source": [
    "# Visulaize snake plot k=4\n",
    "plt.title('Snake plot of standarized variables k=4')\n",
    "sns.lineplot(x='Attribute', y='Value', hue='Cluster', data=rfmt_melt4)\n",
    "plt.show()"
   ]
  },
  {
   "cell_type": "code",
   "execution_count": 63,
   "metadata": {
    "cell_style": "split",
    "scrolled": false
   },
   "outputs": [
    {
     "data": {
      "image/png": "[encoded data removed]",
      "text/plain": [
       "<Figure size 432x288 with 1 Axes>"
      ]
     },
     "metadata": {
      "needs_background": "light"
     },
     "output_type": "display_data"
    }
   ],
   "source": [
    "# Visulaize snake plot k=4\n",
    "plt.title('Snake plot of standarized variables k=3')\n",
    "sns.lineplot(x='Attribute', y='Value', hue='Cluster', data=rfmt_melt3)\n",
    "plt.show()"
   ]
  },
  {
   "cell_type": "code",
   "execution_count": 64,
   "metadata": {},
   "outputs": [],
   "source": [
    "#Renaming lables based on visualization\n",
    "k4_new_labels = {3:'Gold',1:'Silver',2:'Bronze',0:'New'}\n",
    "rfmt_k4 = rfmt_k4.replace({'Cluster':k4_new_labels})\n",
    "rfmt_melt4 = rfmt_melt4.replace({'Cluster':k4_new_labels})\n",
    "rfmt_snake4 = rfmt_snake4.replace({'Cluster':k4_new_labels})"
   ]
  },
  {
   "cell_type": "code",
   "execution_count": 65,
   "metadata": {},
   "outputs": [],
   "source": [
    "#Renaming lables based on visualization\n",
    "k3_new_labels = {1:'Sleepers',2:'New',0:'Loyal'}\n",
    "rfmt_k3 = rfmt_k3.replace({'Cluster':k3_new_labels})\n",
    "rfmt_melt3 = rfmt_melt3.replace({'Cluster':k3_new_labels})\n",
    "rfmt_snake3 = rfmt_snake3.replace({'Cluster':k3_new_labels})"
   ]
  },
  {
   "cell_type": "code",
   "execution_count": 82,
   "metadata": {
    "cell_style": "split",
    "scrolled": false
   },
   "outputs": [
    {
     "data": {
      "image/png": "[encoded data removed]",
      "text/plain": [
       "<Figure size 432x288 with 1 Axes>"
      ]
     },
     "metadata": {
      "needs_background": "light"
     },
     "output_type": "display_data"
    }
   ],
   "source": [
    "# Visulaize snake plot k=4\n",
    "plt.title('Snake plot of standarized variables k=4')\n",
    "sns.lineplot(x='Attribute', y='Value', hue='Cluster', data=rfmt_melt4)\n",
    "plt.show()"
   ]
  },
  {
   "cell_type": "code",
   "execution_count": 67,
   "metadata": {
    "cell_style": "split",
    "scrolled": false
   },
   "outputs": [
    {
     "data": {
      "image/png": "[encoded data removed]",
      "text/plain": [
       "<Figure size 432x288 with 1 Axes>"
      ]
     },
     "metadata": {
      "needs_background": "light"
     },
     "output_type": "display_data"
    }
   ],
   "source": [
    "# Visulaize snake plot k=3\n",
    "plt.title('Snake plot of standarized variables k=3')\n",
    "sns.lineplot(x='Attribute', y='Value', hue='Cluster', data=rfmt_melt3)\n",
    "plt.show()"
   ]
  },
  {
   "cell_type": "markdown",
   "metadata": {},
   "source": [
    "### Relative importance of segment attributes\n",
    "- Useful technique to identify relative importance of each segment's attribute\n",
    "- Calculate average values of each cluster\n",
    "- Calculate average values of population"
   ]
  },
  {
   "cell_type": "code",
   "execution_count": 68,
   "metadata": {
    "scrolled": true
   },
   "outputs": [],
   "source": [
    "cluster_avg4 = rfmt_snake4.groupby(['Cluster']).mean()\n",
    "population_avg4 = rfmt_snake4.mean()\n",
    "relative_imp4 = cluster_avg4/population_avg4 - 1"
   ]
  },
  {
   "cell_type": "code",
   "execution_count": 69,
   "metadata": {},
   "outputs": [
    {
     "data": {
      "text/html": [
       "<div>\n",
       "<style scoped>\n",
       "    .dataframe tbody tr th:only-of-type {\n",
       "        vertical-align: middle;\n",
       "    }\n",
       "\n",
       "    .dataframe tbody tr th {\n",
       "        vertical-align: top;\n",
       "    }\n",
       "\n",
       "    .dataframe thead th {\n",
       "        text-align: right;\n",
       "    }\n",
       "</style>\n",
       "<table border=\"1\" class=\"dataframe\">\n",
       "  <thead>\n",
       "    <tr style=\"text-align: right;\">\n",
       "      <th></th>\n",
       "      <th>Recency</th>\n",
       "      <th>Frequency</th>\n",
       "      <th>Monetary_Value</th>\n",
       "      <th>Tenure</th>\n",
       "    </tr>\n",
       "    <tr>\n",
       "      <th>Cluster</th>\n",
       "      <th></th>\n",
       "      <th></th>\n",
       "      <th></th>\n",
       "      <th></th>\n",
       "    </tr>\n",
       "  </thead>\n",
       "  <tbody>\n",
       "    <tr>\n",
       "      <th>Bronze</th>\n",
       "      <td>1.13</td>\n",
       "      <td>-0.91</td>\n",
       "      <td>-0.92</td>\n",
       "      <td>0.05</td>\n",
       "    </tr>\n",
       "    <tr>\n",
       "      <th>Gold</th>\n",
       "      <td>-0.80</td>\n",
       "      <td>1.50</td>\n",
       "      <td>1.46</td>\n",
       "      <td>0.30</td>\n",
       "    </tr>\n",
       "    <tr>\n",
       "      <th>New</th>\n",
       "      <td>-0.64</td>\n",
       "      <td>-0.62</td>\n",
       "      <td>-0.69</td>\n",
       "      <td>-0.78</td>\n",
       "    </tr>\n",
       "    <tr>\n",
       "      <th>Silver</th>\n",
       "      <td>0.47</td>\n",
       "      <td>-0.45</td>\n",
       "      <td>-0.37</td>\n",
       "      <td>0.17</td>\n",
       "    </tr>\n",
       "  </tbody>\n",
       "</table>\n",
       "</div>"
      ],
      "text/plain": [
       "         Recency  Frequency  Monetary_Value  Tenure\n",
       "Cluster                                            \n",
       "Bronze      1.13      -0.91           -0.92    0.05\n",
       "Gold       -0.80       1.50            1.46    0.30\n",
       "New        -0.64      -0.62           -0.69   -0.78\n",
       "Silver      0.47      -0.45           -0.37    0.17"
      ]
     },
     "execution_count": 69,
     "metadata": {},
     "output_type": "execute_result"
    }
   ],
   "source": [
    "relative_imp4.round(2)"
   ]
  },
  {
   "cell_type": "code",
   "execution_count": 70,
   "metadata": {},
   "outputs": [],
   "source": [
    "cluster_avg3 = rfmt_snake3.groupby(['Cluster']).mean()\n",
    "population_avg3 = rfmt_snake3.mean()\n",
    "relative_imp3 = cluster_avg3/population_avg3 - 1"
   ]
  },
  {
   "cell_type": "code",
   "execution_count": 71,
   "metadata": {},
   "outputs": [
    {
     "data": {
      "text/html": [
       "<div>\n",
       "<style scoped>\n",
       "    .dataframe tbody tr th:only-of-type {\n",
       "        vertical-align: middle;\n",
       "    }\n",
       "\n",
       "    .dataframe tbody tr th {\n",
       "        vertical-align: top;\n",
       "    }\n",
       "\n",
       "    .dataframe thead th {\n",
       "        text-align: right;\n",
       "    }\n",
       "</style>\n",
       "<table border=\"1\" class=\"dataframe\">\n",
       "  <thead>\n",
       "    <tr style=\"text-align: right;\">\n",
       "      <th></th>\n",
       "      <th>Recency</th>\n",
       "      <th>Frequency</th>\n",
       "      <th>Monetary_Value</th>\n",
       "      <th>Tenure</th>\n",
       "    </tr>\n",
       "    <tr>\n",
       "      <th>Cluster</th>\n",
       "      <th></th>\n",
       "      <th></th>\n",
       "      <th></th>\n",
       "      <th></th>\n",
       "    </tr>\n",
       "  </thead>\n",
       "  <tbody>\n",
       "    <tr>\n",
       "      <th>Loyal</th>\n",
       "      <td>-0.63</td>\n",
       "      <td>1.02</td>\n",
       "      <td>1.05</td>\n",
       "      <td>0.26</td>\n",
       "    </tr>\n",
       "    <tr>\n",
       "      <th>New</th>\n",
       "      <td>-0.61</td>\n",
       "      <td>-0.65</td>\n",
       "      <td>-0.72</td>\n",
       "      <td>-0.77</td>\n",
       "    </tr>\n",
       "    <tr>\n",
       "      <th>Sleepers</th>\n",
       "      <td>1.02</td>\n",
       "      <td>-0.75</td>\n",
       "      <td>-0.74</td>\n",
       "      <td>0.14</td>\n",
       "    </tr>\n",
       "  </tbody>\n",
       "</table>\n",
       "</div>"
      ],
      "text/plain": [
       "          Recency  Frequency  Monetary_Value  Tenure\n",
       "Cluster                                             \n",
       "Loyal       -0.63       1.02            1.05    0.26\n",
       "New         -0.61      -0.65           -0.72   -0.77\n",
       "Sleepers     1.02      -0.75           -0.74    0.14"
      ]
     },
     "execution_count": 71,
     "metadata": {},
     "output_type": "execute_result"
    }
   ],
   "source": [
    "relative_imp3.round(2)"
   ]
  },
  {
   "cell_type": "markdown",
   "metadata": {},
   "source": [
    "### Analyze relative importance\n",
    "- The further a ratio is from 0, the more important that attribute is for segment relative to population"
   ]
  },
  {
   "cell_type": "code",
   "execution_count": 72,
   "metadata": {
    "cell_style": "split"
   },
   "outputs": [
    {
     "data": {
      "image/png": "[encoded data removed]",
      "text/plain": [
       "<Figure size 432x288 with 2 Axes>"
      ]
     },
     "metadata": {
      "needs_background": "light"
     },
     "output_type": "display_data"
    }
   ],
   "source": [
    "plt.figure(figsize=(6,4))\n",
    "plt.title('Relative importnace of attributes')\n",
    "sns.heatmap(data=relative_imp4, annot=True, fmt='.2f', cmap='RdYlGn')\n",
    "plt.show()"
   ]
  },
  {
   "cell_type": "code",
   "execution_count": 73,
   "metadata": {
    "cell_style": "split"
   },
   "outputs": [
    {
     "data": {
      "image/png": "[encoded data removed]",
      "text/plain": [
       "<Figure size 432x288 with 2 Axes>"
      ]
     },
     "metadata": {
      "needs_background": "light"
     },
     "output_type": "display_data"
    }
   ],
   "source": [
    "plt.figure(figsize=(6,4))\n",
    "plt.title('Relative importnace of attributes')\n",
    "sns.heatmap(data=relative_imp3, annot=True, fmt='.2f', cmap='RdYlGn')\n",
    "plt.show()"
   ]
  },
  {
   "cell_type": "code",
   "execution_count": null,
   "metadata": {},
   "outputs": [],
   "source": []
  }
 ],
 "metadata": {
  "kernelspec": {
   "display_name": "Python 3",
   "language": "python",
   "name": "python3"
  },
  "language_info": {
   "codemirror_mode": {
    "name": "ipython",
    "version": 3
   },
   "file_extension": ".py",
   "mimetype": "text/x-python",
   "name": "python",
   "nbconvert_exporter": "python",
   "pygments_lexer": "ipython3",
   "version": "3.7.3"
  },
  "toc": {
   "base_numbering": 1,
   "nav_menu": {
    "height": "190px",
    "width": "344px"
   },
   "number_sections": true,
   "sideBar": true,
   "skip_h1_title": false,
   "title_cell": "Table of Contents",
   "title_sidebar": "Contents",
   "toc_cell": false,
   "toc_position": {},
   "toc_section_display": true,
   "toc_window_display": true
  },
  "varInspector": {
   "cols": {
    "lenName": 16,
    "lenType": 16,
    "lenVar": 40
   },
   "kernels_config": {
    "python": {
     "delete_cmd_postfix": "",
     "delete_cmd_prefix": "del ",
     "library": "var_list.py",
     "varRefreshCmd": "print(var_dic_list())"
    },
    "r": {
     "delete_cmd_postfix": ") ",
     "delete_cmd_prefix": "rm(",
     "library": "var_list.r",
     "varRefreshCmd": "cat(var_dic_list()) "
    }
   },
   "position": {
    "height": "371px",
    "left": "910px",
    "right": "20px",
    "top": "120px",
    "width": "350px"
   },
   "types_to_exclude": [
    "module",
    "function",
    "builtin_function_or_method",
    "instance",
    "_Feature"
   ],
   "window_display": false
  }
 },
 "nbformat": 4,
 "nbformat_minor": 4
}
